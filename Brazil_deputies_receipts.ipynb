{
 "cells": [
  {
   "cell_type": "markdown",
   "id": "19986226",
   "metadata": {
    "toc": true
   },
   "source": [
    "<h1>Table of Contents<span class=\"tocSkip\"></span></h1>\n",
    "<div class=\"toc\"><ul class=\"toc-item\"><li><span><a href=\"#Importation-des-modules\" data-toc-modified-id=\"Importation-des-modules-1\"><span class=\"toc-item-num\">1&nbsp;&nbsp;</span>Importation des modules</a></span></li><li><span><a href=\"#Importation-du-dataset\" data-toc-modified-id=\"Importation-du-dataset-2\"><span class=\"toc-item-num\">2&nbsp;&nbsp;</span>Importation du dataset</a></span></li><li><span><a href=\"#Y-a-t-il-des-doublons ?\" data-toc-modified-id=\"Y-a-t-il-des-doublons ?-3\"><span class=\"toc-item-num\">3&nbsp;&nbsp;</span>Y a-t-il des doublons ?</a></span></li><li><span><a href=\"#Doublons-par-député…\" data-toc-modified-id=\"Doublons-par-député…-4\"><span class=\"toc-item-num\">4&nbsp;&nbsp;</span>Doublons par député…</a></span></li><li><span><a href=\"#Ajout-de-la-colonne-“nb_exemplaires”-et-réduction-du-nombre-de-lignes\" data-toc-modified-id=\"Ajout-de-la-colonne-“nb_exemplaires”-et-réduction-du-nombre-de-lignes-5\"><span class=\"toc-item-num\">5&nbsp;&nbsp;</span>Ajout de la colonne “nb_exemplaires” et réduction du nombre de lignes</a></span></li><li><span><a href=\"#Doublons-par-parti\" data-toc-modified-id=\"Doublons-par-parti-6\"><span class=\"toc-item-num\">6&nbsp;&nbsp;</span>Doublons par parti</a></span></li><li><span><a href=\"#Les-factures-gonflées\" data-toc-modified-id=\"Les-factures-gonflées-7\"><span class=\"toc-item-num\">7&nbsp;&nbsp;</span>Les factures gonflées</a></span></li><li><span><a href=\"#Y-a-t-il-une-corrélation-entre-la-valeur-d’une-facture-et-le-nombre-de-fois-où-elle-est-dupliquée ?\" data-toc-modified-id=\"Y-a-t-il-une-corrélation-entre-la-valeur-d’une-facture-et-le-nombre-de-fois-où-elle-est-dupliquée ?-8\"><span class=\"toc-item-num\">8&nbsp;&nbsp;</span>Y a-t-il une corrélation entre la valeur d’une facture et le nombre de fois où elle est dupliquée ?</a></span></li></ul></div>"
   ]
  },
  {
   "cell_type": "code",
   "execution_count": 1,
   "id": "cb22d3bb",
   "metadata": {},
   "outputs": [],
   "source": [
    "# Brazil's House of Deputies Reimbursements"
   ]
  },
  {
   "cell_type": "markdown",
   "id": "dd3f0e86",
   "metadata": {},
   "source": [
    "Dans ce document, je me propose d’étudier une base de données qui a trait aux factures enregistrées par les députés brésiliens."
   ]
  },
  {
   "cell_type": "code",
   "execution_count": null,
   "id": "09194096",
   "metadata": {},
   "outputs": [],
   "source": [
    "En dessous, en anglais, le texte qui accompagnait le dataset :\n",
    "    \n",
    "Acknowledgments:\n",
    "\n",
    "This data is from dadosabertos.camara.leg.br\n",
    "\n",
    "** Inspiration:**\n",
    "\n",
    "I have only slightly fiddled with the dataset, but there are some funny patterns to say the least.\n",
    "Brazil faces a huge problem with corruption and neglect with public funds, this dataset helps to show that.\n",
    "\n",
    "I invite fellow kagglers to toy with the dataset, try to identify suspicious spendings as well as odd patterns.\n",
    "\n",
    "bugged_date: (binary) identify whether date had issues\n",
    "receipt_date: (datetime) receipt date // (int year) for when bugged_date == 1\n",
    "deputy_id: (deputy_id) id number. (didnt check if it changed across year/legislation period for deputies)\n",
    "political_party: (string) deputy political party\n",
    "state_code: (string) Brazil's state that elected the deputy\n",
    "deputy_name: (string)\n",
    "receipt_social_security_number: might be a persons SS number (11 digits long) or a business id number (14 digits long). Many cases with issues.\n",
    "receipt_description: (str / classes) class of spending under which the receipt fits\n",
    "establishment_name: (string)\n",
    "receipt_value: (int) $BR, 3BR$ ~ 1USD"
   ]
  },
  {
   "cell_type": "markdown",
   "id": "700c0318",
   "metadata": {},
   "source": [
    "# Importation des modules"
   ]
  },
  {
   "cell_type": "code",
   "execution_count": 1,
   "id": "3d51c080",
   "metadata": {},
   "outputs": [],
   "source": [
    "import pandas as pd\n",
    "import numpy as np\n",
    "import matplotlib.pyplot as plt\n",
    "import seaborn as sns\n",
    "import datetime as dt"
   ]
  },
  {
   "cell_type": "markdown",
   "id": "c5a571bc",
   "metadata": {},
   "source": [
    "# Importation du dataset"
   ]
  },
  {
   "cell_type": "markdown",
   "id": "2ed9fbf4",
   "metadata": {},
   "source": [
    "J’importe et j’explore le dataset intitulé “Brazil’s House of Deputies Reimbursements” (“Remboursement des frais de la Chambre des Députés du Brésil”)."
   ]
  },
  {
   "cell_type": "code",
   "execution_count": 42,
   "id": "976e24e0",
   "metadata": {
    "scrolled": true
   },
   "outputs": [],
   "source": [
    "df = pd.read_parquet('deputies_dataset.parquet')"
   ]
  },
  {
   "cell_type": "markdown",
   "id": "9c0a25be",
   "metadata": {},
   "source": [
    "La première chose que je fais est de vérifier s’il y a des valeurs manquantes."
   ]
  },
  {
   "cell_type": "code",
   "execution_count": 43,
   "id": "fe644147",
   "metadata": {
    "scrolled": true
   },
   "outputs": [
    {
     "data": {
      "text/plain": [
       "bugged_date                            0\n",
       "receipt_date                           0\n",
       "deputy_id                              0\n",
       "political_party                        0\n",
       "state_code                             0\n",
       "deputy_name                            0\n",
       "receipt_social_security_number    520952\n",
       "receipt_description                    0\n",
       "establishment_name                     0\n",
       "receipt_value                          0\n",
       "dtype: int64"
      ]
     },
     "execution_count": 43,
     "metadata": {},
     "output_type": "execute_result"
    }
   ],
   "source": [
    "df.isna().sum()"
   ]
  },
  {
   "cell_type": "markdown",
   "id": "6be411b5",
   "metadata": {},
   "source": [
    "Il y a un certain nombre de valeurs manquantes dans la colonne “receipt_social_security_number”…\n",
    "Que représentent-ils dans le dataset ?"
   ]
  },
  {
   "cell_type": "code",
   "execution_count": 6,
   "id": "4706f549",
   "metadata": {},
   "outputs": [
    {
     "data": {
      "image/png": "[encoded data removed]",
      "text/plain": [
       "<Figure size 400x400 with 1 Axes>"
      ]
     },
     "metadata": {},
     "output_type": "display_data"
    }
   ],
   "source": [
    "plt.figure(figsize = (4, 4))\n",
    "secteurs, textes, pourcentages = plt.pie(df['receipt_social_security_number'].isna().value_counts(),\n",
    "        labels = ['N° Isbn présent', 'N° Isbn absent'], autopct = '%.1f%%',\n",
    "       labeldistance = 0.1)\n",
    "plt.setp(pourcentages, fontweight = \"bold\", color = \"white\", fontsize = 15)\n",
    "plt.setp(textes, color = \"white\")\n",
    "plt.title(\"Pourcentage des données\\n avec numéro Isbn présent et absent\");"
   ]
  },
  {
   "cell_type": "markdown",
   "id": "18e85da6",
   "metadata": {},
   "source": [
    "Ces nombres Isbn manquants sont en nombre important : je les garde."
   ]
  },
  {
   "cell_type": "code",
   "execution_count": 529,
   "id": "5d138114",
   "metadata": {},
   "outputs": [
    {
     "name": "stdout",
     "output_type": "stream",
     "text": [
      "<class 'pandas.core.frame.DataFrame'>\n",
      "RangeIndex: 3014902 entries, 0 to 3014901\n",
      "Data columns (total 10 columns):\n",
      " #   Column                          Dtype  \n",
      "---  ------                          -----  \n",
      " 0   bugged_date                     int64  \n",
      " 1   receipt_date                    object \n",
      " 2   deputy_id                       int64  \n",
      " 3   political_party                 object \n",
      " 4   state_code                      object \n",
      " 5   deputy_name                     object \n",
      " 6   receipt_social_security_number  float64\n",
      " 7   receipt_description             object \n",
      " 8   establishment_name              object \n",
      " 9   receipt_value                   int64  \n",
      "dtypes: float64(1), int64(3), object(6)\n",
      "memory usage: 1.3 GB\n"
     ]
    }
   ],
   "source": [
    "# Je regarde le type des colonnes et l’occupation de la mémoire\n",
    "df.info(memory_usage = 'deep')"
   ]
  },
  {
   "cell_type": "markdown",
   "id": "d47cacbe",
   "metadata": {},
   "source": [
    "Un certain nombre de colonnes ont pour type “Object”.\n",
    "Je vais faire des conversions dans le type approprié.\n",
    "Mais avant cela je vais regarder comment sont ces “bugged_date”…"
   ]
  },
  {
   "cell_type": "code",
   "execution_count": 7,
   "id": "25c4a3c6",
   "metadata": {},
   "outputs": [
    {
     "data": {
      "text/plain": [
       "102        2013\n",
       "107        2013\n",
       "108        2013\n",
       "126        2013\n",
       "127        2013\n",
       "           ... \n",
       "3008451    2009\n",
       "3012983    2009\n",
       "3013142    2009\n",
       "3014370    2009\n",
       "3014650    2009\n",
       "Name: receipt_date, Length: 49531, dtype: object"
      ]
     },
     "execution_count": 7,
     "metadata": {},
     "output_type": "execute_result"
    }
   ],
   "source": [
    "df.loc[df['bugged_date'] == True, \"receipt_date\"]"
   ]
  },
  {
   "cell_type": "markdown",
   "id": "86521221",
   "metadata": {},
   "source": [
    "Il n’y a que l’année qui est renseigné… C’est la raison pour laquelle lors d’une conversion en type\n",
    "datetime, elles sont ajoutées au premier janvier."
   ]
  },
  {
   "cell_type": "markdown",
   "id": "6f9d5c4a",
   "metadata": {},
   "source": [
    "Y a-t-il d’autres enregistrements signalés comme non-buggués qui ont cette caractéristique ?"
   ]
  },
  {
   "cell_type": "code",
   "execution_count": 64,
   "id": "0f9fe6a1",
   "metadata": {},
   "outputs": [
    {
     "data": {
      "text/plain": [
       "0"
      ]
     },
     "execution_count": 64,
     "metadata": {},
     "output_type": "execute_result"
    }
   ],
   "source": [
    "df.loc[df['bugged_date'] == False, \"receipt_date\"].str.match(\"^\\d{4}$\").sum()"
   ]
  },
  {
   "cell_type": "markdown",
   "id": "980ef404",
   "metadata": {},
   "source": [
    "Apparemment non."
   ]
  },
  {
   "cell_type": "markdown",
   "id": "d5ba354e",
   "metadata": {},
   "source": [
    "À présent, je fais des conversions pour alléger le dataset"
   ]
  },
  {
   "cell_type": "code",
   "execution_count": 44,
   "id": "b6acd1f1",
   "metadata": {},
   "outputs": [],
   "source": [
    "df['receipt_social_security_number'] = df['receipt_social_security_number'].astype('Int64')"
   ]
  },
  {
   "cell_type": "code",
   "execution_count": 45,
   "id": "c7522d9d",
   "metadata": {},
   "outputs": [],
   "source": [
    "df['receipt_date'] = pd.to_datetime(df['receipt_date'])"
   ]
  },
  {
   "cell_type": "markdown",
   "id": "8f5a95c4",
   "metadata": {},
   "source": [
    "Je transforme les données de type “object” en type “string”\n",
    "col_string = df.select_dtypes('object')\n",
    "df[col_string.columns] = col_string.astype('string')"
   ]
  },
  {
   "cell_type": "code",
   "execution_count": 533,
   "id": "803b9b2d",
   "metadata": {},
   "outputs": [
    {
     "name": "stdout",
     "output_type": "stream",
     "text": [
      "<class 'pandas.core.frame.DataFrame'>\n",
      "RangeIndex: 3014902 entries, 0 to 3014901\n",
      "Data columns (total 10 columns):\n",
      " #   Column                          Dtype         \n",
      "---  ------                          -----         \n",
      " 0   bugged_date                     int64         \n",
      " 1   receipt_date                    datetime64[ns]\n",
      " 2   deputy_id                       int64         \n",
      " 3   political_party                 string        \n",
      " 4   state_code                      string        \n",
      " 5   deputy_name                     string        \n",
      " 6   receipt_social_security_number  Int64         \n",
      " 7   receipt_description             string        \n",
      " 8   establishment_name              string        \n",
      " 9   receipt_value                   int64         \n",
      "dtypes: Int64(1), datetime64[ns](1), int64(3), string(5)\n",
      "memory usage: 232.9 MB\n"
     ]
    }
   ],
   "source": [
    "# Je vérifie que la base de données a bien diminué en poids…\n",
    "df.info()"
   ]
  },
  {
   "cell_type": "code",
   "execution_count": null,
   "id": "3512ea9f",
   "metadata": {},
   "outputs": [],
   "source": [
    "# Cette base de données couvre-t-elle quelle période de temps ?"
   ]
  },
  {
   "cell_type": "code",
   "execution_count": 21,
   "id": "6b852ed4",
   "metadata": {},
   "outputs": [
    {
     "data": {
      "text/plain": [
       "(Timestamp('2009-01-01 00:00:00'), Timestamp('2017-10-24 17:56:47'))"
      ]
     },
     "execution_count": 21,
     "metadata": {},
     "output_type": "execute_result"
    }
   ],
   "source": [
    "(df.loc[df['bugged_date'] == False, 'receipt_date'].min(), df.loc[df['bugged_date'] == False, 'receipt_date'].max())"
   ]
  },
  {
   "cell_type": "markdown",
   "id": "c196dffc",
   "metadata": {},
   "source": [
    "Le premier enregistrement aurait eu lieu le 1er janvier 2009 et le dernier, le 24 octobre 2017."
   ]
  },
  {
   "cell_type": "markdown",
   "id": "8c1eb0a4",
   "metadata": {},
   "source": [
    "Il manque le nombre de jours présents de chaque député à la députation pour pouvoir comparer les sommes dépensées.\n",
    "Puis-je le déduire ? Est-ce que les temps de députation sont continus ou discontinus ? Les élections législatives ont lieu tous les quatre ans au Brésil. Leurs dates sont le 5 octobre 2014, le 7 octobre 2018 et le 3 octobre 2010."
   ]
  },
  {
   "cell_type": "code",
   "execution_count": 46,
   "id": "52920914",
   "metadata": {
    "scrolled": true
   },
   "outputs": [
    {
     "data": {
      "text/html": [
       "<div>\n",
       "<style scoped>\n",
       "    .dataframe tbody tr th:only-of-type {\n",
       "        vertical-align: middle;\n",
       "    }\n",
       "\n",
       "    .dataframe tbody tr th {\n",
       "        vertical-align: top;\n",
       "    }\n",
       "\n",
       "    .dataframe thead th {\n",
       "        text-align: right;\n",
       "    }\n",
       "</style>\n",
       "<table border=\"1\" class=\"dataframe\">\n",
       "  <thead>\n",
       "    <tr style=\"text-align: right;\">\n",
       "      <th></th>\n",
       "      <th>receipt_date</th>\n",
       "      <th>deputy_name</th>\n",
       "    </tr>\n",
       "  </thead>\n",
       "  <tbody>\n",
       "    <tr>\n",
       "      <th>0</th>\n",
       "      <td>2013-03-27</td>\n",
       "      <td>Abelardo Camarinha</td>\n",
       "    </tr>\n",
       "    <tr>\n",
       "      <th>1</th>\n",
       "      <td>2013-07-24</td>\n",
       "      <td>Abelardo Camarinha</td>\n",
       "    </tr>\n",
       "    <tr>\n",
       "      <th>2</th>\n",
       "      <td>2013-02-17</td>\n",
       "      <td>Abelardo Camarinha</td>\n",
       "    </tr>\n",
       "    <tr>\n",
       "      <th>3</th>\n",
       "      <td>2013-03-15</td>\n",
       "      <td>Abelardo Camarinha</td>\n",
       "    </tr>\n",
       "    <tr>\n",
       "      <th>4</th>\n",
       "      <td>2013-01-27</td>\n",
       "      <td>Abelardo Camarinha</td>\n",
       "    </tr>\n",
       "    <tr>\n",
       "      <th>...</th>\n",
       "      <td>...</td>\n",
       "      <td>...</td>\n",
       "    </tr>\n",
       "    <tr>\n",
       "      <th>3014897</th>\n",
       "      <td>2009-12-22</td>\n",
       "      <td>Zonta</td>\n",
       "    </tr>\n",
       "    <tr>\n",
       "      <th>3014898</th>\n",
       "      <td>2009-08-24</td>\n",
       "      <td>Zonta</td>\n",
       "    </tr>\n",
       "    <tr>\n",
       "      <th>3014899</th>\n",
       "      <td>2009-12-15</td>\n",
       "      <td>Zonta</td>\n",
       "    </tr>\n",
       "    <tr>\n",
       "      <th>3014900</th>\n",
       "      <td>2009-08-12</td>\n",
       "      <td>Zonta</td>\n",
       "    </tr>\n",
       "    <tr>\n",
       "      <th>3014901</th>\n",
       "      <td>2009-07-03</td>\n",
       "      <td>Zonta</td>\n",
       "    </tr>\n",
       "  </tbody>\n",
       "</table>\n",
       "<p>2965371 rows × 2 columns</p>\n",
       "</div>"
      ],
      "text/plain": [
       "        receipt_date         deputy_name\n",
       "0         2013-03-27  Abelardo Camarinha\n",
       "1         2013-07-24  Abelardo Camarinha\n",
       "2         2013-02-17  Abelardo Camarinha\n",
       "3         2013-03-15  Abelardo Camarinha\n",
       "4         2013-01-27  Abelardo Camarinha\n",
       "...              ...                 ...\n",
       "3014897   2009-12-22               Zonta\n",
       "3014898   2009-08-24               Zonta\n",
       "3014899   2009-12-15               Zonta\n",
       "3014900   2009-08-12               Zonta\n",
       "3014901   2009-07-03               Zonta\n",
       "\n",
       "[2965371 rows x 2 columns]"
      ]
     },
     "execution_count": 46,
     "metadata": {},
     "output_type": "execute_result"
    }
   ],
   "source": [
    "# Je vais utiliser une portion du dataset plus réduite. D’abord je laisse tomber les dates bugguées.\n",
    "(\n",
    "    df_dates := df[df['bugged_date'] == False][['receipt_date', 'deputy_name']]\n",
    ")"
   ]
  },
  {
   "cell_type": "code",
   "execution_count": 47,
   "id": "22c2e761",
   "metadata": {},
   "outputs": [
    {
     "data": {
      "text/html": [
       "<div>\n",
       "<style scoped>\n",
       "    .dataframe tbody tr th:only-of-type {\n",
       "        vertical-align: middle;\n",
       "    }\n",
       "\n",
       "    .dataframe tbody tr th {\n",
       "        vertical-align: top;\n",
       "    }\n",
       "\n",
       "    .dataframe thead th {\n",
       "        text-align: right;\n",
       "    }\n",
       "</style>\n",
       "<table border=\"1\" class=\"dataframe\">\n",
       "  <thead>\n",
       "    <tr style=\"text-align: right;\">\n",
       "      <th></th>\n",
       "      <th>receipt_date</th>\n",
       "      <th>deputy_name</th>\n",
       "    </tr>\n",
       "  </thead>\n",
       "  <tbody>\n",
       "    <tr>\n",
       "      <th>1068366</th>\n",
       "      <td>2015-01-09 00:00:00</td>\n",
       "      <td>Abel Mesquita Jr.</td>\n",
       "    </tr>\n",
       "    <tr>\n",
       "      <th>1068329</th>\n",
       "      <td>2015-02-02 00:00:00</td>\n",
       "      <td>Abel Mesquita Jr.</td>\n",
       "    </tr>\n",
       "    <tr>\n",
       "      <th>1068420</th>\n",
       "      <td>2015-02-02 00:00:00</td>\n",
       "      <td>Abel Mesquita Jr.</td>\n",
       "    </tr>\n",
       "    <tr>\n",
       "      <th>1068330</th>\n",
       "      <td>2015-02-04 00:00:00</td>\n",
       "      <td>Abel Mesquita Jr.</td>\n",
       "    </tr>\n",
       "    <tr>\n",
       "      <th>1068545</th>\n",
       "      <td>2015-02-04 00:00:00</td>\n",
       "      <td>Abel Mesquita Jr.</td>\n",
       "    </tr>\n",
       "    <tr>\n",
       "      <th>...</th>\n",
       "      <td>...</td>\n",
       "      <td>...</td>\n",
       "    </tr>\n",
       "    <tr>\n",
       "      <th>1225609</th>\n",
       "      <td>2015-01-13 00:00:00</td>\n",
       "      <td>Íris De Araújo</td>\n",
       "    </tr>\n",
       "    <tr>\n",
       "      <th>1225608</th>\n",
       "      <td>2015-01-14 00:00:00</td>\n",
       "      <td>Íris De Araújo</td>\n",
       "    </tr>\n",
       "    <tr>\n",
       "      <th>1225615</th>\n",
       "      <td>2015-01-19 00:00:00</td>\n",
       "      <td>Íris De Araújo</td>\n",
       "    </tr>\n",
       "    <tr>\n",
       "      <th>1225616</th>\n",
       "      <td>2015-01-19 00:00:00</td>\n",
       "      <td>Íris De Araújo</td>\n",
       "    </tr>\n",
       "    <tr>\n",
       "      <th>1225614</th>\n",
       "      <td>2015-01-26 16:16:05</td>\n",
       "      <td>Íris De Araújo</td>\n",
       "    </tr>\n",
       "  </tbody>\n",
       "</table>\n",
       "<p>2965371 rows × 2 columns</p>\n",
       "</div>"
      ],
      "text/plain": [
       "               receipt_date        deputy_name\n",
       "1068366 2015-01-09 00:00:00  Abel Mesquita Jr.\n",
       "1068329 2015-02-02 00:00:00  Abel Mesquita Jr.\n",
       "1068420 2015-02-02 00:00:00  Abel Mesquita Jr.\n",
       "1068330 2015-02-04 00:00:00  Abel Mesquita Jr.\n",
       "1068545 2015-02-04 00:00:00  Abel Mesquita Jr.\n",
       "...                     ...                ...\n",
       "1225609 2015-01-13 00:00:00     Íris De Araújo\n",
       "1225608 2015-01-14 00:00:00     Íris De Araújo\n",
       "1225615 2015-01-19 00:00:00     Íris De Araújo\n",
       "1225616 2015-01-19 00:00:00     Íris De Araújo\n",
       "1225614 2015-01-26 16:16:05     Íris De Araújo\n",
       "\n",
       "[2965371 rows x 2 columns]"
      ]
     },
     "execution_count": 47,
     "metadata": {},
     "output_type": "execute_result"
    }
   ],
   "source": [
    "# Je trie le tableau par député et par date\n",
    "(\n",
    "    df_dates := df_dates.sort_values(['deputy_name', 'receipt_date'])\n",
    ")"
   ]
  },
  {
   "cell_type": "code",
   "execution_count": 49,
   "id": "02706b4a",
   "metadata": {},
   "outputs": [],
   "source": [
    "# Et je calcule l’intervalle entre chaque date de facture pour chaque député\n",
    "# et je m’attarde sur les intervalles supérieures à quatre ans\n",
    "\n",
    "quatre_ans = pd.Timedelta(\"1460 days\")\n",
    "\n",
    "df_dates['date_suivante'] = df_dates.groupby('deputy_name')['receipt_date'].transform(lambda x : x.shift(-1))"
   ]
  },
  {
   "cell_type": "code",
   "execution_count": 50,
   "id": "db2699dc",
   "metadata": {},
   "outputs": [],
   "source": [
    "# La dernière date pour chaque député n’a pas de “date_suivante”. Je remplis donc avec la date_courante\n",
    "df_dates['date_suivante'] = np.where(df_dates['date_suivante'].isna(),\n",
    "                                     df_dates['receipt_date'],\n",
    "                                     df_dates['date_suivante'])"
   ]
  },
  {
   "cell_type": "code",
   "execution_count": 51,
   "id": "b5d78b38",
   "metadata": {},
   "outputs": [],
   "source": [
    "df_dates['difference'] = df_dates['date_suivante'] - df_dates['receipt_date']"
   ]
  },
  {
   "cell_type": "code",
   "execution_count": 52,
   "id": "b622af09",
   "metadata": {},
   "outputs": [
    {
     "data": {
      "text/plain": [
       "1068366   24 days 00:00:00\n",
       "1068329    0 days 00:00:00\n",
       "1068420    2 days 00:00:00\n",
       "1068330    0 days 00:00:00\n",
       "1068545    1 days 00:00:00\n",
       "                ...       \n",
       "1225609    1 days 00:00:00\n",
       "1225608    5 days 00:00:00\n",
       "1225615    0 days 00:00:00\n",
       "1225616    7 days 16:16:05\n",
       "1225614    0 days 00:00:00\n",
       "Name: difference, Length: 2965371, dtype: timedelta64[ns]"
      ]
     },
     "execution_count": 52,
     "metadata": {},
     "output_type": "execute_result"
    }
   ],
   "source": [
    "df_dates['difference']"
   ]
  },
  {
   "cell_type": "markdown",
   "id": "4c697e1d",
   "metadata": {},
   "source": [
    "Je vais ajouter une colonne interruption qui me signalera une interruption de plus de quatre ans"
   ]
  },
  {
   "cell_type": "code",
   "execution_count": 53,
   "id": "8522cc5f",
   "metadata": {},
   "outputs": [],
   "source": [
    "df_dates['interruption'] = df_dates['difference'] > quatre_ans"
   ]
  },
  {
   "cell_type": "markdown",
   "id": "1cbf7272",
   "metadata": {},
   "source": [
    "La date minimum et la date maximum pour chaque député me serviront pour le calcul."
   ]
  },
  {
   "cell_type": "code",
   "execution_count": 54,
   "id": "74c6aac5",
   "metadata": {},
   "outputs": [],
   "source": [
    "df_dates['min'] = df_dates.groupby('deputy_name')['receipt_date'].transform('min')\n",
    "\n",
    "df_dates['max'] = df_dates.groupby('deputy_name')['receipt_date'].transform('max')"
   ]
  },
  {
   "cell_type": "code",
   "execution_count": 55,
   "id": "8cdf37b9",
   "metadata": {},
   "outputs": [
    {
     "data": {
      "text/html": [
       "<div>\n",
       "<style scoped>\n",
       "    .dataframe tbody tr th:only-of-type {\n",
       "        vertical-align: middle;\n",
       "    }\n",
       "\n",
       "    .dataframe tbody tr th {\n",
       "        vertical-align: top;\n",
       "    }\n",
       "\n",
       "    .dataframe thead th {\n",
       "        text-align: right;\n",
       "    }\n",
       "</style>\n",
       "<table border=\"1\" class=\"dataframe\">\n",
       "  <thead>\n",
       "    <tr style=\"text-align: right;\">\n",
       "      <th></th>\n",
       "      <th>receipt_date</th>\n",
       "      <th>deputy_name</th>\n",
       "      <th>date_suivante</th>\n",
       "      <th>difference</th>\n",
       "      <th>interruption</th>\n",
       "      <th>min</th>\n",
       "      <th>max</th>\n",
       "    </tr>\n",
       "  </thead>\n",
       "  <tbody>\n",
       "    <tr>\n",
       "      <th>1068366</th>\n",
       "      <td>2015-01-09 00:00:00</td>\n",
       "      <td>Abel Mesquita Jr.</td>\n",
       "      <td>2015-02-02 00:00:00</td>\n",
       "      <td>24 days 00:00:00</td>\n",
       "      <td>False</td>\n",
       "      <td>2015-01-09</td>\n",
       "      <td>2017-10-05 00:00:00</td>\n",
       "    </tr>\n",
       "    <tr>\n",
       "      <th>1068329</th>\n",
       "      <td>2015-02-02 00:00:00</td>\n",
       "      <td>Abel Mesquita Jr.</td>\n",
       "      <td>2015-02-02 00:00:00</td>\n",
       "      <td>0 days 00:00:00</td>\n",
       "      <td>False</td>\n",
       "      <td>2015-01-09</td>\n",
       "      <td>2017-10-05 00:00:00</td>\n",
       "    </tr>\n",
       "    <tr>\n",
       "      <th>1068420</th>\n",
       "      <td>2015-02-02 00:00:00</td>\n",
       "      <td>Abel Mesquita Jr.</td>\n",
       "      <td>2015-02-04 00:00:00</td>\n",
       "      <td>2 days 00:00:00</td>\n",
       "      <td>False</td>\n",
       "      <td>2015-01-09</td>\n",
       "      <td>2017-10-05 00:00:00</td>\n",
       "    </tr>\n",
       "    <tr>\n",
       "      <th>1068330</th>\n",
       "      <td>2015-02-04 00:00:00</td>\n",
       "      <td>Abel Mesquita Jr.</td>\n",
       "      <td>2015-02-04 00:00:00</td>\n",
       "      <td>0 days 00:00:00</td>\n",
       "      <td>False</td>\n",
       "      <td>2015-01-09</td>\n",
       "      <td>2017-10-05 00:00:00</td>\n",
       "    </tr>\n",
       "    <tr>\n",
       "      <th>1068545</th>\n",
       "      <td>2015-02-04 00:00:00</td>\n",
       "      <td>Abel Mesquita Jr.</td>\n",
       "      <td>2015-02-05 00:00:00</td>\n",
       "      <td>1 days 00:00:00</td>\n",
       "      <td>False</td>\n",
       "      <td>2015-01-09</td>\n",
       "      <td>2017-10-05 00:00:00</td>\n",
       "    </tr>\n",
       "    <tr>\n",
       "      <th>...</th>\n",
       "      <td>...</td>\n",
       "      <td>...</td>\n",
       "      <td>...</td>\n",
       "      <td>...</td>\n",
       "      <td>...</td>\n",
       "      <td>...</td>\n",
       "      <td>...</td>\n",
       "    </tr>\n",
       "    <tr>\n",
       "      <th>1225609</th>\n",
       "      <td>2015-01-13 00:00:00</td>\n",
       "      <td>Íris De Araújo</td>\n",
       "      <td>2015-01-14 00:00:00</td>\n",
       "      <td>1 days 00:00:00</td>\n",
       "      <td>False</td>\n",
       "      <td>2009-03-18</td>\n",
       "      <td>2015-01-26 16:16:05</td>\n",
       "    </tr>\n",
       "    <tr>\n",
       "      <th>1225608</th>\n",
       "      <td>2015-01-14 00:00:00</td>\n",
       "      <td>Íris De Araújo</td>\n",
       "      <td>2015-01-19 00:00:00</td>\n",
       "      <td>5 days 00:00:00</td>\n",
       "      <td>False</td>\n",
       "      <td>2009-03-18</td>\n",
       "      <td>2015-01-26 16:16:05</td>\n",
       "    </tr>\n",
       "    <tr>\n",
       "      <th>1225615</th>\n",
       "      <td>2015-01-19 00:00:00</td>\n",
       "      <td>Íris De Araújo</td>\n",
       "      <td>2015-01-19 00:00:00</td>\n",
       "      <td>0 days 00:00:00</td>\n",
       "      <td>False</td>\n",
       "      <td>2009-03-18</td>\n",
       "      <td>2015-01-26 16:16:05</td>\n",
       "    </tr>\n",
       "    <tr>\n",
       "      <th>1225616</th>\n",
       "      <td>2015-01-19 00:00:00</td>\n",
       "      <td>Íris De Araújo</td>\n",
       "      <td>2015-01-26 16:16:05</td>\n",
       "      <td>7 days 16:16:05</td>\n",
       "      <td>False</td>\n",
       "      <td>2009-03-18</td>\n",
       "      <td>2015-01-26 16:16:05</td>\n",
       "    </tr>\n",
       "    <tr>\n",
       "      <th>1225614</th>\n",
       "      <td>2015-01-26 16:16:05</td>\n",
       "      <td>Íris De Araújo</td>\n",
       "      <td>2015-01-26 16:16:05</td>\n",
       "      <td>0 days 00:00:00</td>\n",
       "      <td>False</td>\n",
       "      <td>2009-03-18</td>\n",
       "      <td>2015-01-26 16:16:05</td>\n",
       "    </tr>\n",
       "  </tbody>\n",
       "</table>\n",
       "<p>2965371 rows × 7 columns</p>\n",
       "</div>"
      ],
      "text/plain": [
       "               receipt_date        deputy_name       date_suivante  \\\n",
       "1068366 2015-01-09 00:00:00  Abel Mesquita Jr. 2015-02-02 00:00:00   \n",
       "1068329 2015-02-02 00:00:00  Abel Mesquita Jr. 2015-02-02 00:00:00   \n",
       "1068420 2015-02-02 00:00:00  Abel Mesquita Jr. 2015-02-04 00:00:00   \n",
       "1068330 2015-02-04 00:00:00  Abel Mesquita Jr. 2015-02-04 00:00:00   \n",
       "1068545 2015-02-04 00:00:00  Abel Mesquita Jr. 2015-02-05 00:00:00   \n",
       "...                     ...                ...                 ...   \n",
       "1225609 2015-01-13 00:00:00     Íris De Araújo 2015-01-14 00:00:00   \n",
       "1225608 2015-01-14 00:00:00     Íris De Araújo 2015-01-19 00:00:00   \n",
       "1225615 2015-01-19 00:00:00     Íris De Araújo 2015-01-19 00:00:00   \n",
       "1225616 2015-01-19 00:00:00     Íris De Araújo 2015-01-26 16:16:05   \n",
       "1225614 2015-01-26 16:16:05     Íris De Araújo 2015-01-26 16:16:05   \n",
       "\n",
       "              difference  interruption        min                 max  \n",
       "1068366 24 days 00:00:00         False 2015-01-09 2017-10-05 00:00:00  \n",
       "1068329  0 days 00:00:00         False 2015-01-09 2017-10-05 00:00:00  \n",
       "1068420  2 days 00:00:00         False 2015-01-09 2017-10-05 00:00:00  \n",
       "1068330  0 days 00:00:00         False 2015-01-09 2017-10-05 00:00:00  \n",
       "1068545  1 days 00:00:00         False 2015-01-09 2017-10-05 00:00:00  \n",
       "...                  ...           ...        ...                 ...  \n",
       "1225609  1 days 00:00:00         False 2009-03-18 2015-01-26 16:16:05  \n",
       "1225608  5 days 00:00:00         False 2009-03-18 2015-01-26 16:16:05  \n",
       "1225615  0 days 00:00:00         False 2009-03-18 2015-01-26 16:16:05  \n",
       "1225616  7 days 16:16:05         False 2009-03-18 2015-01-26 16:16:05  \n",
       "1225614  0 days 00:00:00         False 2009-03-18 2015-01-26 16:16:05  \n",
       "\n",
       "[2965371 rows x 7 columns]"
      ]
     },
     "execution_count": 55,
     "metadata": {},
     "output_type": "execute_result"
    }
   ],
   "source": [
    "df_dates"
   ]
  },
  {
   "cell_type": "code",
   "execution_count": 56,
   "id": "c70d3e36",
   "metadata": {},
   "outputs": [],
   "source": [
    "# Je transforme df_dates['difference'] en entier\n",
    "df_dates['difference'] = df_dates['difference'].astype(str)\n",
    "\n",
    "df_dates['difference'] = df_dates['difference'].str.extract('(^[0-9]+)').astype('Int32')"
   ]
  },
  {
   "cell_type": "markdown",
   "id": "26b42a76",
   "metadata": {},
   "source": [
    "Je vais sélectionner les députés qui sont concernés par l’interruption de mandat."
   ]
  },
  {
   "cell_type": "code",
   "execution_count": null,
   "id": "9a3ec864",
   "metadata": {},
   "outputs": [],
   "source": [
    "(\n",
    "    deputes_interruption := df_dates[df_dates['difference'] > 1460]['deputy_name'].to_list()\n",
    ")"
   ]
  },
  {
   "cell_type": "markdown",
   "id": "20bae694",
   "metadata": {},
   "source": [
    "Il n’y a que pour ces neuf députés qu’il y a pu y avoir une interruption dans leur députation.\n",
    "(D’ailleurs pour la plupart, la différence est de quasiment quatre ans.)\n",
    "Je vais calculer la date de fin du premier mandat et la date de début du second mandat."
   ]
  },
  {
   "cell_type": "code",
   "execution_count": 57,
   "id": "5f55b5f6",
   "metadata": {},
   "outputs": [],
   "source": [
    "for depute in deputes_interruption:\n",
    "    fin_premier_mandat = df_dates.loc[(df_dates['deputy_name'] == depute) & df_dates['interruption'], 'receipt_date'].values[0]\n",
    "    df_dates.loc[df_dates['deputy_name'] == depute, 'fin_premier_mandat'] = fin_premier_mandat\n",
    "\n",
    "for depute in deputes_interruption:\n",
    "    debut_deuxieme_mandat = df_dates.loc[(df_dates['deputy_name'] == depute) & df_dates['interruption'], 'date_suivante'].values[0]\n",
    "    df_dates.loc[df_dates['deputy_name'] == depute, 'deb_deuxieme_mandat'] = debut_deuxieme_mandat"
   ]
  },
  {
   "cell_type": "markdown",
   "id": "e509c122",
   "metadata": {},
   "source": [
    "Je vais donc faire la somme de la première période jusqu’à l’interruption et de la deuxième période à partir\n",
    "de la reprise des factures pour ces neuf députés.\n",
    "Pour tous les autres, je vais faire la différence entre la date maximum et la date minimum\n",
    "pour connaître leur nombre de jours de présence en tant que député."
   ]
  },
  {
   "cell_type": "code",
   "execution_count": 58,
   "id": "a9915c7f",
   "metadata": {},
   "outputs": [],
   "source": [
    "df_dates['periode'] = np.where(df_dates['deputy_name'].isin(deputes_interruption),\n",
    "                               (df_dates['fin_premier_mandat'] - df_dates['min']) +\\\n",
    "                               (df_dates['max'] - df_dates['deb_deuxieme_mandat']),\n",
    "                               df_dates['max'] - df_dates['min'])"
   ]
  },
  {
   "cell_type": "markdown",
   "id": "a0a6b562",
   "metadata": {},
   "source": [
    "Je simplifie le dataframe contenant la période de députation avant de le fusionner avec le dataframe principal."
   ]
  },
  {
   "cell_type": "code",
   "execution_count": 59,
   "id": "d074db7f",
   "metadata": {},
   "outputs": [],
   "source": [
    "df_dates = df_dates[['deputy_name', 'periode']]"
   ]
  },
  {
   "cell_type": "code",
   "execution_count": 60,
   "id": "3751d6d3",
   "metadata": {},
   "outputs": [],
   "source": [
    "df_dates = df_dates.drop_duplicates().set_index('deputy_name')"
   ]
  },
  {
   "cell_type": "code",
   "execution_count": 61,
   "id": "455206b5",
   "metadata": {},
   "outputs": [
    {
     "data": {
      "text/html": [
       "<div>\n",
       "<style scoped>\n",
       "    .dataframe tbody tr th:only-of-type {\n",
       "        vertical-align: middle;\n",
       "    }\n",
       "\n",
       "    .dataframe tbody tr th {\n",
       "        vertical-align: top;\n",
       "    }\n",
       "\n",
       "    .dataframe thead th {\n",
       "        text-align: right;\n",
       "    }\n",
       "</style>\n",
       "<table border=\"1\" class=\"dataframe\">\n",
       "  <thead>\n",
       "    <tr style=\"text-align: right;\">\n",
       "      <th></th>\n",
       "      <th>periode</th>\n",
       "    </tr>\n",
       "    <tr>\n",
       "      <th>deputy_name</th>\n",
       "      <th></th>\n",
       "    </tr>\n",
       "  </thead>\n",
       "  <tbody>\n",
       "    <tr>\n",
       "      <th>Abel Mesquita Jr.</th>\n",
       "      <td>1000 days 00:00:00</td>\n",
       "    </tr>\n",
       "    <tr>\n",
       "      <th>Abelardo Camarinha</th>\n",
       "      <td>2095 days 12:48:43</td>\n",
       "    </tr>\n",
       "    <tr>\n",
       "      <th>Abelardo Lupion</th>\n",
       "      <td>2219 days 17:05:41</td>\n",
       "    </tr>\n",
       "    <tr>\n",
       "      <th>Acelino Popó</th>\n",
       "      <td>1455 days 00:00:00</td>\n",
       "    </tr>\n",
       "    <tr>\n",
       "      <th>Acácio Júnior</th>\n",
       "      <td>12 days 00:00:00</td>\n",
       "    </tr>\n",
       "    <tr>\n",
       "      <th>...</th>\n",
       "      <td>...</td>\n",
       "    </tr>\n",
       "    <tr>\n",
       "      <th>Átila A. Nunes</th>\n",
       "      <td>22 days 00:00:00</td>\n",
       "    </tr>\n",
       "    <tr>\n",
       "      <th>Átila Lins</th>\n",
       "      <td>3107 days 00:00:00</td>\n",
       "    </tr>\n",
       "    <tr>\n",
       "      <th>Átila Lira</th>\n",
       "      <td>3141 days 14:32:45</td>\n",
       "    </tr>\n",
       "    <tr>\n",
       "      <th>Ângelo Agnolin</th>\n",
       "      <td>1498 days 00:00:00</td>\n",
       "    </tr>\n",
       "    <tr>\n",
       "      <th>Íris De Araújo</th>\n",
       "      <td>2140 days 16:16:05</td>\n",
       "    </tr>\n",
       "  </tbody>\n",
       "</table>\n",
       "<p>1184 rows × 1 columns</p>\n",
       "</div>"
      ],
      "text/plain": [
       "                              periode\n",
       "deputy_name                          \n",
       "Abel Mesquita Jr.  1000 days 00:00:00\n",
       "Abelardo Camarinha 2095 days 12:48:43\n",
       "Abelardo Lupion    2219 days 17:05:41\n",
       "Acelino Popó       1455 days 00:00:00\n",
       "Acácio Júnior        12 days 00:00:00\n",
       "...                               ...\n",
       "Átila A. Nunes       22 days 00:00:00\n",
       "Átila Lins         3107 days 00:00:00\n",
       "Átila Lira         3141 days 14:32:45\n",
       "Ângelo Agnolin     1498 days 00:00:00\n",
       "Íris De Araújo     2140 days 16:16:05\n",
       "\n",
       "[1184 rows x 1 columns]"
      ]
     },
     "execution_count": 61,
     "metadata": {},
     "output_type": "execute_result"
    }
   ],
   "source": [
    "df_dates"
   ]
  },
  {
   "cell_type": "code",
   "execution_count": 62,
   "id": "d166c601",
   "metadata": {},
   "outputs": [],
   "source": [
    "# Je vais transformer la période en entier.\n",
    "\n",
    "df_dates['periode'] = df_dates['periode'].astype('str').str.extract('(^\\d+)').astype('Int32')"
   ]
  },
  {
   "cell_type": "code",
   "execution_count": 63,
   "id": "30f2907c",
   "metadata": {},
   "outputs": [
    {
     "data": {
      "text/html": [
       "<div>\n",
       "<style scoped>\n",
       "    .dataframe tbody tr th:only-of-type {\n",
       "        vertical-align: middle;\n",
       "    }\n",
       "\n",
       "    .dataframe tbody tr th {\n",
       "        vertical-align: top;\n",
       "    }\n",
       "\n",
       "    .dataframe thead th {\n",
       "        text-align: right;\n",
       "    }\n",
       "</style>\n",
       "<table border=\"1\" class=\"dataframe\">\n",
       "  <thead>\n",
       "    <tr style=\"text-align: right;\">\n",
       "      <th></th>\n",
       "      <th>bugged_date</th>\n",
       "      <th>receipt_date</th>\n",
       "      <th>deputy_id</th>\n",
       "      <th>political_party</th>\n",
       "      <th>state_code</th>\n",
       "      <th>deputy_name</th>\n",
       "      <th>receipt_social_security_number</th>\n",
       "      <th>receipt_description</th>\n",
       "      <th>establishment_name</th>\n",
       "      <th>receipt_value</th>\n",
       "      <th>periode</th>\n",
       "    </tr>\n",
       "  </thead>\n",
       "  <tbody>\n",
       "    <tr>\n",
       "      <th>0</th>\n",
       "      <td>0</td>\n",
       "      <td>2013-03-27</td>\n",
       "      <td>1772</td>\n",
       "      <td>PSB</td>\n",
       "      <td>SP</td>\n",
       "      <td>Abelardo Camarinha</td>\n",
       "      <td>3530749000139</td>\n",
       "      <td>Fuels and lubricants.</td>\n",
       "      <td>AUTO POSTO 314 NORTE LTDA</td>\n",
       "      <td>70</td>\n",
       "      <td>2095</td>\n",
       "    </tr>\n",
       "    <tr>\n",
       "      <th>1</th>\n",
       "      <td>0</td>\n",
       "      <td>2013-07-24</td>\n",
       "      <td>1772</td>\n",
       "      <td>PSB</td>\n",
       "      <td>SP</td>\n",
       "      <td>Abelardo Camarinha</td>\n",
       "      <td>8202116000115</td>\n",
       "      <td>Fuels and lubricants.</td>\n",
       "      <td>AUTO POSTO AEROPORTO  LTDA</td>\n",
       "      <td>104</td>\n",
       "      <td>2095</td>\n",
       "    </tr>\n",
       "    <tr>\n",
       "      <th>2</th>\n",
       "      <td>0</td>\n",
       "      <td>2013-02-17</td>\n",
       "      <td>1772</td>\n",
       "      <td>PSB</td>\n",
       "      <td>SP</td>\n",
       "      <td>Abelardo Camarinha</td>\n",
       "      <td>8202116000115</td>\n",
       "      <td>Fuels and lubricants.</td>\n",
       "      <td>AUTO POSTO AEROPORTO LTDA</td>\n",
       "      <td>100</td>\n",
       "      <td>2095</td>\n",
       "    </tr>\n",
       "    <tr>\n",
       "      <th>3</th>\n",
       "      <td>0</td>\n",
       "      <td>2013-03-15</td>\n",
       "      <td>1772</td>\n",
       "      <td>PSB</td>\n",
       "      <td>SP</td>\n",
       "      <td>Abelardo Camarinha</td>\n",
       "      <td>8202116000115</td>\n",
       "      <td>Fuels and lubricants.</td>\n",
       "      <td>AUTO POSTO AEROPORTO LTDA</td>\n",
       "      <td>100</td>\n",
       "      <td>2095</td>\n",
       "    </tr>\n",
       "    <tr>\n",
       "      <th>4</th>\n",
       "      <td>0</td>\n",
       "      <td>2013-01-27</td>\n",
       "      <td>1772</td>\n",
       "      <td>PSB</td>\n",
       "      <td>SP</td>\n",
       "      <td>Abelardo Camarinha</td>\n",
       "      <td>8202116000115</td>\n",
       "      <td>Fuels and lubricants.</td>\n",
       "      <td>AUTO POSTO AEROPORTO LTDA</td>\n",
       "      <td>77</td>\n",
       "      <td>2095</td>\n",
       "    </tr>\n",
       "    <tr>\n",
       "      <th>...</th>\n",
       "      <td>...</td>\n",
       "      <td>...</td>\n",
       "      <td>...</td>\n",
       "      <td>...</td>\n",
       "      <td>...</td>\n",
       "      <td>...</td>\n",
       "      <td>...</td>\n",
       "      <td>...</td>\n",
       "      <td>...</td>\n",
       "      <td>...</td>\n",
       "      <td>...</td>\n",
       "    </tr>\n",
       "    <tr>\n",
       "      <th>3014897</th>\n",
       "      <td>0</td>\n",
       "      <td>2009-12-22</td>\n",
       "      <td>1712</td>\n",
       "      <td>PP</td>\n",
       "      <td>SC</td>\n",
       "      <td>Zonta</td>\n",
       "      <td>7575651000159</td>\n",
       "      <td>Airline tickets</td>\n",
       "      <td>Cia Aérea - GOL</td>\n",
       "      <td>993</td>\n",
       "      <td>905</td>\n",
       "    </tr>\n",
       "    <tr>\n",
       "      <th>3014898</th>\n",
       "      <td>0</td>\n",
       "      <td>2009-08-24</td>\n",
       "      <td>1712</td>\n",
       "      <td>PP</td>\n",
       "      <td>SC</td>\n",
       "      <td>Zonta</td>\n",
       "      <td>7575651000159</td>\n",
       "      <td>Airline tickets</td>\n",
       "      <td>Cia Aérea - GOL</td>\n",
       "      <td>588</td>\n",
       "      <td>905</td>\n",
       "    </tr>\n",
       "    <tr>\n",
       "      <th>3014899</th>\n",
       "      <td>0</td>\n",
       "      <td>2009-12-15</td>\n",
       "      <td>1712</td>\n",
       "      <td>PP</td>\n",
       "      <td>SC</td>\n",
       "      <td>Zonta</td>\n",
       "      <td>7575651000159</td>\n",
       "      <td>Airline tickets</td>\n",
       "      <td>Cia Aérea - GOL</td>\n",
       "      <td>773</td>\n",
       "      <td>905</td>\n",
       "    </tr>\n",
       "    <tr>\n",
       "      <th>3014900</th>\n",
       "      <td>0</td>\n",
       "      <td>2009-08-12</td>\n",
       "      <td>1712</td>\n",
       "      <td>PP</td>\n",
       "      <td>SC</td>\n",
       "      <td>Zonta</td>\n",
       "      <td>7575651000159</td>\n",
       "      <td>Airline tickets</td>\n",
       "      <td>Cia Aérea - GOL</td>\n",
       "      <td>508</td>\n",
       "      <td>905</td>\n",
       "    </tr>\n",
       "    <tr>\n",
       "      <th>3014901</th>\n",
       "      <td>0</td>\n",
       "      <td>2009-07-03</td>\n",
       "      <td>1712</td>\n",
       "      <td>PP</td>\n",
       "      <td>SC</td>\n",
       "      <td>Zonta</td>\n",
       "      <td>7575651000159</td>\n",
       "      <td>Airline tickets</td>\n",
       "      <td>Cia Aérea - GOL</td>\n",
       "      <td>528</td>\n",
       "      <td>905</td>\n",
       "    </tr>\n",
       "  </tbody>\n",
       "</table>\n",
       "<p>3014902 rows × 11 columns</p>\n",
       "</div>"
      ],
      "text/plain": [
       "         bugged_date receipt_date  deputy_id political_party state_code  \\\n",
       "0                  0   2013-03-27       1772             PSB         SP   \n",
       "1                  0   2013-07-24       1772             PSB         SP   \n",
       "2                  0   2013-02-17       1772             PSB         SP   \n",
       "3                  0   2013-03-15       1772             PSB         SP   \n",
       "4                  0   2013-01-27       1772             PSB         SP   \n",
       "...              ...          ...        ...             ...        ...   \n",
       "3014897            0   2009-12-22       1712              PP         SC   \n",
       "3014898            0   2009-08-24       1712              PP         SC   \n",
       "3014899            0   2009-12-15       1712              PP         SC   \n",
       "3014900            0   2009-08-12       1712              PP         SC   \n",
       "3014901            0   2009-07-03       1712              PP         SC   \n",
       "\n",
       "                deputy_name  receipt_social_security_number  \\\n",
       "0        Abelardo Camarinha                   3530749000139   \n",
       "1        Abelardo Camarinha                   8202116000115   \n",
       "2        Abelardo Camarinha                   8202116000115   \n",
       "3        Abelardo Camarinha                   8202116000115   \n",
       "4        Abelardo Camarinha                   8202116000115   \n",
       "...                     ...                             ...   \n",
       "3014897               Zonta                   7575651000159   \n",
       "3014898               Zonta                   7575651000159   \n",
       "3014899               Zonta                   7575651000159   \n",
       "3014900               Zonta                   7575651000159   \n",
       "3014901               Zonta                   7575651000159   \n",
       "\n",
       "           receipt_description          establishment_name  receipt_value  \\\n",
       "0        Fuels and lubricants.   AUTO POSTO 314 NORTE LTDA             70   \n",
       "1        Fuels and lubricants.  AUTO POSTO AEROPORTO  LTDA            104   \n",
       "2        Fuels and lubricants.   AUTO POSTO AEROPORTO LTDA            100   \n",
       "3        Fuels and lubricants.   AUTO POSTO AEROPORTO LTDA            100   \n",
       "4        Fuels and lubricants.   AUTO POSTO AEROPORTO LTDA             77   \n",
       "...                        ...                         ...            ...   \n",
       "3014897        Airline tickets             Cia Aérea - GOL            993   \n",
       "3014898        Airline tickets             Cia Aérea - GOL            588   \n",
       "3014899        Airline tickets             Cia Aérea - GOL            773   \n",
       "3014900        Airline tickets             Cia Aérea - GOL            508   \n",
       "3014901        Airline tickets             Cia Aérea - GOL            528   \n",
       "\n",
       "         periode  \n",
       "0           2095  \n",
       "1           2095  \n",
       "2           2095  \n",
       "3           2095  \n",
       "4           2095  \n",
       "...          ...  \n",
       "3014897      905  \n",
       "3014898      905  \n",
       "3014899      905  \n",
       "3014900      905  \n",
       "3014901      905  \n",
       "\n",
       "[3014902 rows x 11 columns]"
      ]
     },
     "execution_count": 63,
     "metadata": {},
     "output_type": "execute_result"
    }
   ],
   "source": [
    "(df := df.join(df_dates, on = 'deputy_name'))"
   ]
  },
  {
   "cell_type": "code",
   "execution_count": 616,
   "id": "c1c40b20",
   "metadata": {},
   "outputs": [
    {
     "name": "stdout",
     "output_type": "stream",
     "text": [
      "<class 'pandas.core.frame.DataFrame'>\n",
      "RangeIndex: 3014902 entries, 0 to 3014901\n",
      "Data columns (total 11 columns):\n",
      " #   Column                          Dtype         \n",
      "---  ------                          -----         \n",
      " 0   bugged_date                     int64         \n",
      " 1   receipt_date                    datetime64[ns]\n",
      " 2   deputy_id                       int64         \n",
      " 3   political_party                 object        \n",
      " 4   state_code                      object        \n",
      " 5   deputy_name                     object        \n",
      " 6   receipt_social_security_number  Int64         \n",
      " 7   receipt_description             object        \n",
      " 8   establishment_name              object        \n",
      " 9   receipt_value                   int64         \n",
      " 10  periode                         Int32         \n",
      "dtypes: Int32(1), Int64(1), datetime64[ns](1), int64(3), object(5)\n",
      "memory usage: 247.3+ MB\n"
     ]
    }
   ],
   "source": [
    "df.info()"
   ]
  },
  {
   "cell_type": "markdown",
   "id": "ca876c39",
   "metadata": {},
   "source": [
    "# Y a-t-il des doublons ?"
   ]
  },
  {
   "cell_type": "code",
   "execution_count": 24,
   "id": "85db6bab",
   "metadata": {},
   "outputs": [
    {
     "name": "stdout",
     "output_type": "stream",
     "text": [
      "Il y a 169,252 doublons.\n"
     ]
    }
   ],
   "source": [
    "print(f\"Il y a {df.duplicated().sum():,} doublons.\")"
   ]
  },
  {
   "cell_type": "markdown",
   "id": "0cefec22",
   "metadata": {},
   "source": [
    "Hélas oui. Beaucoup même. Est-ce que si on enlève la date, on se retrouve avec encore plus de doublons ?"
   ]
  },
  {
   "cell_type": "code",
   "execution_count": 618,
   "id": "7cafa000",
   "metadata": {},
   "outputs": [
    {
     "name": "stdout",
     "output_type": "stream",
     "text": [
      "Il y a 1,095,978 doublons.\n"
     ]
    }
   ],
   "source": [
    "print(f\"Il y a {df.duplicated(subset = df.columns.drop(['receipt_date'])).sum():,} doublons.\")"
   ]
  },
  {
   "cell_type": "markdown",
   "id": "1f936cd8",
   "metadata": {},
   "source": [
    "Si on enlève la date, on se retrouve avec dix fois plus de doublons.\n",
    "Cela dit, il est possible qu’à des dates différentes, deux factures peuvent être identiques… n’est-ce pas ?"
   ]
  },
  {
   "cell_type": "markdown",
   "id": "57c85bda",
   "metadata": {},
   "source": [
    "Je vais à présenter étudier l’évolution du phénomène “doublons” au cours du temps."
   ]
  },
  {
   "cell_type": "code",
   "execution_count": 88,
   "id": "557b85e0",
   "metadata": {},
   "outputs": [
    {
     "data": {
      "image/png": "[encoded data removed]",
      "text/plain": [
       "<Figure size 1200x600 with 1 Axes>"
      ]
     },
     "metadata": {},
     "output_type": "display_data"
    }
   ],
   "source": [
    "plt.figure(figsize = (12, 6))\n",
    "plt.plot(df[df.duplicated()].set_index('receipt_date').resample('D')['receipt_value'].sum())\n",
    "plt.xlabel('Années')\n",
    "plt.ylabel('Somme totale des factures dupliquées')\n",
    "plt.title(\"Évolution des sommes concernées\\npar les factures dupliquées\", loc = 'left', x = 0.05, y = 0.75,\n",
    "         fontsize = 16);"
   ]
  },
  {
   "cell_type": "markdown",
   "id": "8b094ff7",
   "metadata": {},
   "source": [
    "On constate que le phénomène des “factures dupliquées” s’est amplifié au cours du temps,\n",
    "et notamment à partir 2013…"
   ]
  },
  {
   "cell_type": "code",
   "execution_count": 91,
   "id": "14ce6c67",
   "metadata": {},
   "outputs": [
    {
     "data": {
      "image/png": "[encoded data removed]",
      "text/plain": [
       "<Figure size 1200x600 with 1 Axes>"
      ]
     },
     "metadata": {},
     "output_type": "display_data"
    }
   ],
   "source": [
    "plt.figure(figsize = (12, 6))\n",
    "plt.plot(df[df.duplicated()].set_index('receipt_date').resample('D')['receipt_value'].count())\n",
    "plt.xlabel('Années')\n",
    "plt.ylabel('Nombre des factures dupliquées')\n",
    "plt.title(\"Évolution du nombre\\ndes factures dupliquées\", loc = 'left', x = 0.05, y = 0.75,\n",
    "         fontsize = 16);"
   ]
  },
  {
   "cell_type": "code",
   "execution_count": 93,
   "id": "e2ad62e7",
   "metadata": {},
   "outputs": [
    {
     "data": {
      "image/png": "[encoded data removed]",
      "text/plain": [
       "<Figure size 1200x600 with 1 Axes>"
      ]
     },
     "metadata": {},
     "output_type": "display_data"
    }
   ],
   "source": [
    "plt.figure(figsize = (12, 6))\n",
    "plt.plot(df[df.duplicated()].set_index('receipt_date').resample('Y')['receipt_value'].count())\n",
    "plt.xlabel('Années')\n",
    "plt.ylabel('Nombre totale des factures dupliquées')\n",
    "plt.yticks()\n",
    "plt.title(\"Évolution du nombre \\n des factures dupliquées\", loc = 'left', x = 0.05, y = 0.75,\n",
    "         fontsize = 16);"
   ]
  },
  {
   "cell_type": "markdown",
   "id": "66b8b17d",
   "metadata": {},
   "source": [
    "Mais à partir de 2016, il y a de moins en moins de factures dupliquées… Se serait-on attaqué au problème ?"
   ]
  },
  {
   "cell_type": "markdown",
   "id": "644941ff",
   "metadata": {},
   "source": [
    "# Doublons par député…"
   ]
  },
  {
   "cell_type": "markdown",
   "id": "f74e04cc",
   "metadata": {},
   "source": [
    "Je vais regarder maintenant le nombre de doublons par député."
   ]
  },
  {
   "cell_type": "code",
   "execution_count": 64,
   "id": "96778a61",
   "metadata": {},
   "outputs": [
    {
     "data": {
      "text/plain": [
       "deputy_name\n",
       "Jorge Tadeu Mudalen     4404\n",
       "Bonifácio De Andrada    2434\n",
       "Júlio Delgado           2102\n",
       "Vilson Covatti          1649\n",
       "Henrique Fontana        1590\n",
       "                        ... \n",
       "Moroni Torgan              1\n",
       "Jorge Alberto              1\n",
       "Márcio Biolchi             1\n",
       "Ernandes Amorim            1\n",
       "Psol                       1\n",
       "Length: 1116, dtype: int64"
      ]
     },
     "execution_count": 64,
     "metadata": {},
     "output_type": "execute_result"
    }
   ],
   "source": [
    "(\n",
    "    factures_dupliquées_député := df.groupby(['deputy_name', df.duplicated()]).size().loc[(slice(None), True)].sort_values(ascending = False)\n",
    ")"
   ]
  },
  {
   "cell_type": "code",
   "execution_count": 557,
   "id": "204fd900",
   "metadata": {},
   "outputs": [
    {
     "data": {
      "image/png": "[encoded data removed]",
      "text/plain": [
       "<Figure size 500x500 with 1 Axes>"
      ]
     },
     "metadata": {},
     "output_type": "display_data"
    }
   ],
   "source": [
    "sns.displot(data = factures_dupliquées_député, kind = 'kde')\n",
    "plt.grid(which = 'major', color = '#BBBBBB', linewidth = 1)\n",
    "plt.grid(which = 'minor', color = '#DDDDDD', linestyle = ':', linewidth = 0.8)\n",
    "plt.minorticks_on()\n",
    "plt.title('Nombre de doublons par député');"
   ]
  },
  {
   "cell_type": "markdown",
   "id": "0b92226a",
   "metadata": {},
   "source": [
    "On trouve une distribution asymétrique positive avec la plupart des valeurs entre 0 et 500\n",
    "et une longue queue constituée de milliers de doublons"
   ]
  },
  {
   "cell_type": "code",
   "execution_count": 559,
   "id": "326e4500",
   "metadata": {},
   "outputs": [
    {
     "data": {
      "image/png": "[encoded data removed]",
      "text/plain": [
       "<Figure size 1000x500 with 1 Axes>"
      ]
     },
     "metadata": {},
     "output_type": "display_data"
    }
   ],
   "source": [
    "# Je vais utiliser un histogramme\n",
    "plt.figure(figsize = (10, 5))\n",
    "n, bins, patches = plt.hist(factures_dupliquées_député[factures_dupliquées_député < 150],\n",
    "                            bins = [1, 5, 10, 15, 20, 25, 30, 40, 50, 60, 70, 80, 90, 100, 110, 120, 130, 140, 150])\n",
    "plt.xticks(bins)\n",
    "plt.ylim([20, 80])\n",
    "plt.grid(axis = 'x', color = 'white')\n",
    "plt.title('Nombre de doublons par député');"
   ]
  },
  {
   "cell_type": "code",
   "execution_count": 558,
   "id": "386a447d",
   "metadata": {},
   "outputs": [
    {
     "data": {
      "image/png": "[encoded data removed]",
      "text/plain": [
       "<Figure size 1000x400 with 1 Axes>"
      ]
     },
     "metadata": {},
     "output_type": "display_data"
    }
   ],
   "source": [
    "plt.figure(figsize = (10, 4))\n",
    "n, bins, patches = plt.hist(factures_dupliquées_député[factures_dupliquées_député < 881], bins = 'sturges')\n",
    "plt.xticks(bins)\n",
    "plt.grid(axis = 'x', color = 'w')\n",
    "plt.title('Nombre de doublons par député pour les valeurs inférieures à 881');"
   ]
  },
  {
   "cell_type": "code",
   "execution_count": 24,
   "id": "0383be65",
   "metadata": {},
   "outputs": [
    {
     "data": {
      "image/png": "[encoded data removed]",
      "text/plain": [
       "<Figure size 640x480 with 1 Axes>"
      ]
     },
     "metadata": {},
     "output_type": "display_data"
    }
   ],
   "source": [
    "sns.violinplot(data = factures_dupliquées_député)\n",
    "plt.grid(which = 'major', color = '#BBBBBB', linewidth = 1)\n",
    "plt.grid(which = 'minor', color = '#DDDDDD', linestyle = ':', linewidth = 0.8)\n",
    "plt.minorticks_on()"
   ]
  },
  {
   "cell_type": "code",
   "execution_count": 560,
   "id": "4b22ca4b",
   "metadata": {},
   "outputs": [
    {
     "name": "stdout",
     "output_type": "stream",
     "text": [
      "La médiane des valeurs est 84.\n"
     ]
    }
   ],
   "source": [
    "print(f'La médiane des valeurs est {factures_dupliquées_député.median():.0f}.')"
   ]
  },
  {
   "cell_type": "markdown",
   "id": "90778d36",
   "metadata": {},
   "source": [
    "Ce que l’on retrouve dans le diagramme en violon : on voit que l’ensemble des valeurs sont entre 0 et 438 copies.\n",
    "Ce qui est déjà beaucoup…"
   ]
  },
  {
   "cell_type": "markdown",
   "id": "4893331e",
   "metadata": {},
   "source": [
    "# Ajout de la colonne “nb_exemplaires” et réduction du nombre de lignes"
   ]
  },
  {
   "cell_type": "code",
   "execution_count": 65,
   "id": "fbc481bc",
   "metadata": {},
   "outputs": [
    {
     "data": {
      "text/html": [
       "<div>\n",
       "<style scoped>\n",
       "    .dataframe tbody tr th:only-of-type {\n",
       "        vertical-align: middle;\n",
       "    }\n",
       "\n",
       "    .dataframe tbody tr th {\n",
       "        vertical-align: top;\n",
       "    }\n",
       "\n",
       "    .dataframe thead th {\n",
       "        text-align: right;\n",
       "    }\n",
       "</style>\n",
       "<table border=\"1\" class=\"dataframe\">\n",
       "  <thead>\n",
       "    <tr style=\"text-align: right;\">\n",
       "      <th></th>\n",
       "      <th>bugged_date</th>\n",
       "      <th>receipt_date</th>\n",
       "      <th>deputy_id</th>\n",
       "      <th>political_party</th>\n",
       "      <th>state_code</th>\n",
       "      <th>deputy_name</th>\n",
       "      <th>receipt_social_security_number</th>\n",
       "      <th>receipt_description</th>\n",
       "      <th>establishment_name</th>\n",
       "      <th>receipt_value</th>\n",
       "      <th>periode</th>\n",
       "      <th>nb_exemplaires</th>\n",
       "    </tr>\n",
       "  </thead>\n",
       "  <tbody>\n",
       "    <tr>\n",
       "      <th>119350</th>\n",
       "      <td>0</td>\n",
       "      <td>2009-09-22</td>\n",
       "      <td>1785</td>\n",
       "      <td>PDT</td>\n",
       "      <td>RJ</td>\n",
       "      <td>Arnaldo Vianna</td>\n",
       "      <td>7575651000159</td>\n",
       "      <td>Airline tickets</td>\n",
       "      <td>Cia Aérea - GOL</td>\n",
       "      <td>3</td>\n",
       "      <td>705</td>\n",
       "      <td>44</td>\n",
       "    </tr>\n",
       "    <tr>\n",
       "      <th>990439</th>\n",
       "      <td>0</td>\n",
       "      <td>2012-12-31</td>\n",
       "      <td>1744</td>\n",
       "      <td>PODE</td>\n",
       "      <td>MG</td>\n",
       "      <td>Ademir Camilo</td>\n",
       "      <td>7575651000159</td>\n",
       "      <td>Airline tickets</td>\n",
       "      <td>Cia Aérea - GOL</td>\n",
       "      <td>106</td>\n",
       "      <td>3128</td>\n",
       "      <td>44</td>\n",
       "    </tr>\n",
       "    <tr>\n",
       "      <th>1551457</th>\n",
       "      <td>0</td>\n",
       "      <td>2015-02-25</td>\n",
       "      <td>1703</td>\n",
       "      <td>PR</td>\n",
       "      <td>PB</td>\n",
       "      <td>Wellington Roberto</td>\n",
       "      <td>2012862000160</td>\n",
       "      <td>Airline tickets</td>\n",
       "      <td>Cia Aérea - TAM</td>\n",
       "      <td>296</td>\n",
       "      <td>3123</td>\n",
       "      <td>39</td>\n",
       "    </tr>\n",
       "    <tr>\n",
       "      <th>436531</th>\n",
       "      <td>0</td>\n",
       "      <td>2010-12-27</td>\n",
       "      <td>1332</td>\n",
       "      <td>PHS</td>\n",
       "      <td>AL</td>\n",
       "      <td>Givaldo Carimbão</td>\n",
       "      <td>2012862000160</td>\n",
       "      <td>Airline tickets</td>\n",
       "      <td>Cia Aérea - TAM</td>\n",
       "      <td>336</td>\n",
       "      <td>3125</td>\n",
       "      <td>37</td>\n",
       "    </tr>\n",
       "    <tr>\n",
       "      <th>436970</th>\n",
       "      <td>0</td>\n",
       "      <td>2010-12-28</td>\n",
       "      <td>1531</td>\n",
       "      <td>PCDOB</td>\n",
       "      <td>BA</td>\n",
       "      <td>Alice Portugal</td>\n",
       "      <td>7575651000159</td>\n",
       "      <td>Airline tickets</td>\n",
       "      <td>Cia Aérea - GOL</td>\n",
       "      <td>218</td>\n",
       "      <td>3162</td>\n",
       "      <td>36</td>\n",
       "    </tr>\n",
       "    <tr>\n",
       "      <th>...</th>\n",
       "      <td>...</td>\n",
       "      <td>...</td>\n",
       "      <td>...</td>\n",
       "      <td>...</td>\n",
       "      <td>...</td>\n",
       "      <td>...</td>\n",
       "      <td>...</td>\n",
       "      <td>...</td>\n",
       "      <td>...</td>\n",
       "      <td>...</td>\n",
       "      <td>...</td>\n",
       "      <td>...</td>\n",
       "    </tr>\n",
       "    <tr>\n",
       "      <th>792386</th>\n",
       "      <td>0</td>\n",
       "      <td>2012-04-08</td>\n",
       "      <td>1729</td>\n",
       "      <td>PT</td>\n",
       "      <td>PI</td>\n",
       "      <td>Nazareno Fonteles</td>\n",
       "      <td>72820822002769</td>\n",
       "      <td>Maintenance of Office</td>\n",
       "      <td>SKY</td>\n",
       "      <td>114</td>\n",
       "      <td>1842</td>\n",
       "      <td>1</td>\n",
       "    </tr>\n",
       "    <tr>\n",
       "      <th>792385</th>\n",
       "      <td>0</td>\n",
       "      <td>2012-04-08</td>\n",
       "      <td>1710</td>\n",
       "      <td>PT</td>\n",
       "      <td>BA</td>\n",
       "      <td>Zezéu Ribeiro</td>\n",
       "      <td>75021000257</td>\n",
       "      <td>Fuels and lubricants.</td>\n",
       "      <td>AUTO POSTO FLOR DA CHAPADA LTDA</td>\n",
       "      <td>147</td>\n",
       "      <td>1979</td>\n",
       "      <td>1</td>\n",
       "    </tr>\n",
       "    <tr>\n",
       "      <th>792384</th>\n",
       "      <td>0</td>\n",
       "      <td>2012-04-08</td>\n",
       "      <td>1706</td>\n",
       "      <td>PT</td>\n",
       "      <td>PA</td>\n",
       "      <td>Zé Geraldo</td>\n",
       "      <td>7575651000159</td>\n",
       "      <td>Airline tickets</td>\n",
       "      <td>Cia Aérea - GOL</td>\n",
       "      <td>480</td>\n",
       "      <td>3152</td>\n",
       "      <td>1</td>\n",
       "    </tr>\n",
       "    <tr>\n",
       "      <th>792383</th>\n",
       "      <td>0</td>\n",
       "      <td>2012-04-08</td>\n",
       "      <td>1693</td>\n",
       "      <td>PSC</td>\n",
       "      <td>PR</td>\n",
       "      <td>Takayama</td>\n",
       "      <td>81894297000420</td>\n",
       "      <td>Fuels and lubricants.</td>\n",
       "      <td>POSTO MARU LTDA</td>\n",
       "      <td>50</td>\n",
       "      <td>3203</td>\n",
       "      <td>1</td>\n",
       "    </tr>\n",
       "    <tr>\n",
       "      <th>2326984</th>\n",
       "      <td>1</td>\n",
       "      <td>2017-01-01</td>\n",
       "      <td>3144</td>\n",
       "      <td>PSB</td>\n",
       "      <td>PE</td>\n",
       "      <td>Creuza Pereira</td>\n",
       "      <td>18345254000107</td>\n",
       "      <td>Rental or Chartering of Motor Vehicles</td>\n",
       "      <td>DS LOCAÇÃODE VEÍCULOS EIRELI-EPP</td>\n",
       "      <td>1800</td>\n",
       "      <td>502</td>\n",
       "      <td>1</td>\n",
       "    </tr>\n",
       "  </tbody>\n",
       "</table>\n",
       "<p>2326985 rows × 12 columns</p>\n",
       "</div>"
      ],
      "text/plain": [
       "         bugged_date receipt_date  deputy_id political_party state_code  \\\n",
       "119350             0   2009-09-22       1785             PDT         RJ   \n",
       "990439             0   2012-12-31       1744            PODE         MG   \n",
       "1551457            0   2015-02-25       1703              PR         PB   \n",
       "436531             0   2010-12-27       1332             PHS         AL   \n",
       "436970             0   2010-12-28       1531           PCDOB         BA   \n",
       "...              ...          ...        ...             ...        ...   \n",
       "792386             0   2012-04-08       1729              PT         PI   \n",
       "792385             0   2012-04-08       1710              PT         BA   \n",
       "792384             0   2012-04-08       1706              PT         PA   \n",
       "792383             0   2012-04-08       1693             PSC         PR   \n",
       "2326984            1   2017-01-01       3144             PSB         PE   \n",
       "\n",
       "                deputy_name  receipt_social_security_number  \\\n",
       "119350       Arnaldo Vianna                   7575651000159   \n",
       "990439        Ademir Camilo                   7575651000159   \n",
       "1551457  Wellington Roberto                   2012862000160   \n",
       "436531     Givaldo Carimbão                   2012862000160   \n",
       "436970       Alice Portugal                   7575651000159   \n",
       "...                     ...                             ...   \n",
       "792386    Nazareno Fonteles                  72820822002769   \n",
       "792385        Zezéu Ribeiro                     75021000257   \n",
       "792384           Zé Geraldo                   7575651000159   \n",
       "792383             Takayama                  81894297000420   \n",
       "2326984      Creuza Pereira                  18345254000107   \n",
       "\n",
       "                            receipt_description  \\\n",
       "119350                          Airline tickets   \n",
       "990439                          Airline tickets   \n",
       "1551457                         Airline tickets   \n",
       "436531                          Airline tickets   \n",
       "436970                          Airline tickets   \n",
       "...                                         ...   \n",
       "792386                    Maintenance of Office   \n",
       "792385                    Fuels and lubricants.   \n",
       "792384                          Airline tickets   \n",
       "792383                    Fuels and lubricants.   \n",
       "2326984  Rental or Chartering of Motor Vehicles   \n",
       "\n",
       "                       establishment_name  receipt_value  periode  \\\n",
       "119350                    Cia Aérea - GOL              3      705   \n",
       "990439                    Cia Aérea - GOL            106     3128   \n",
       "1551457                   Cia Aérea - TAM            296     3123   \n",
       "436531                    Cia Aérea - TAM            336     3125   \n",
       "436970                    Cia Aérea - GOL            218     3162   \n",
       "...                                   ...            ...      ...   \n",
       "792386                                SKY            114     1842   \n",
       "792385    AUTO POSTO FLOR DA CHAPADA LTDA            147     1979   \n",
       "792384                    Cia Aérea - GOL            480     3152   \n",
       "792383                    POSTO MARU LTDA             50     3203   \n",
       "2326984  DS LOCAÇÃODE VEÍCULOS EIRELI-EPP           1800      502   \n",
       "\n",
       "         nb_exemplaires  \n",
       "119350               44  \n",
       "990439               44  \n",
       "1551457              39  \n",
       "436531               37  \n",
       "436970               36  \n",
       "...                 ...  \n",
       "792386                1  \n",
       "792385                1  \n",
       "792384                1  \n",
       "792383                1  \n",
       "2326984               1  \n",
       "\n",
       "[2326985 rows x 12 columns]"
      ]
     },
     "execution_count": 65,
     "metadata": {},
     "output_type": "execute_result"
    }
   ],
   "source": [
    "# Et, aussi important combien y a-t-il de doublons par facture (plus de un…) ?\n",
    "# Je vais donc compter pour chaque facture le nombre de fois où elle est présente\n",
    "(\n",
    "    df := df.groupby(df.columns.tolist(), as_index = False).size()\\\n",
    "    .sort_values(by = 'size', ascending = False).rename(columns = {'size': 'nb_exemplaires'})\n",
    ")"
   ]
  },
  {
   "cell_type": "markdown",
   "id": "fd41ef42",
   "metadata": {},
   "source": [
    "La nouvelle colonne est de type int64 ce qui est bien excessif"
   ]
  },
  {
   "cell_type": "code",
   "execution_count": 68,
   "id": "c6f5ffba",
   "metadata": {},
   "outputs": [],
   "source": [
    "df['nb_exemplaires'] = pd.to_numeric(df['nb_exemplaires'], downcast = 'unsigned')"
   ]
  },
  {
   "cell_type": "code",
   "execution_count": 69,
   "id": "245112dd",
   "metadata": {},
   "outputs": [
    {
     "name": "stdout",
     "output_type": "stream",
     "text": [
      "<class 'pandas.core.frame.DataFrame'>\n",
      "Int64Index: 2326985 entries, 119350 to 2326984\n",
      "Data columns (total 12 columns):\n",
      " #   Column                          Dtype         \n",
      "---  ------                          -----         \n",
      " 0   bugged_date                     int64         \n",
      " 1   receipt_date                    datetime64[ns]\n",
      " 2   deputy_id                       int64         \n",
      " 3   political_party                 object        \n",
      " 4   state_code                      object        \n",
      " 5   deputy_name                     object        \n",
      " 6   receipt_social_security_number  Int64         \n",
      " 7   receipt_description             object        \n",
      " 8   establishment_name              object        \n",
      " 9   receipt_value                   int64         \n",
      " 10  periode                         Int32         \n",
      " 11  nb_exemplaires                  uint8         \n",
      "dtypes: Int32(1), Int64(1), datetime64[ns](1), int64(3), object(5), uint8(1)\n",
      "memory usage: 210.8+ MB\n"
     ]
    }
   ],
   "source": [
    "df.info()"
   ]
  },
  {
   "cell_type": "code",
   "execution_count": 98,
   "id": "a59c0ec8",
   "metadata": {},
   "outputs": [],
   "source": [
    "# Quelle est la proportion de doublons par rapport à ceux qui sont en unique exemplaire ?"
   ]
  },
  {
   "cell_type": "code",
   "execution_count": 70,
   "id": "a53b1f6a",
   "metadata": {},
   "outputs": [
    {
     "data": {
      "text/plain": [
       "False    2210628\n",
       "True      116357\n",
       "Name: nb_exemplaires, dtype: int64"
      ]
     },
     "execution_count": 70,
     "metadata": {},
     "output_type": "execute_result"
    }
   ],
   "source": [
    "(df['nb_exemplaires'] > 1).value_counts()"
   ]
  },
  {
   "cell_type": "code",
   "execution_count": 637,
   "id": "eb86f436",
   "metadata": {},
   "outputs": [
    {
     "data": {
      "image/png": "[encoded data removed]",
      "text/plain": [
       "<Figure size 600x400 with 1 Axes>"
      ]
     },
     "metadata": {},
     "output_type": "display_data"
    }
   ],
   "source": [
    "plt.figure(figsize = (6, 4))\n",
    "portions, textes, percents = plt.pie((df['nb_exemplaires'] > 1).value_counts(),\n",
    "                                  labels = ['Exemplaires uniques', 'Exemplaires\\nmultiples'], \n",
    "                                  labeldistance = 1.1, autopct = '%d.0%%')\n",
    "plt.title('Proportion du nombre de factures multiples\\npar rapport aux factures uniques', loc = 'center', x = 0.6)\n",
    "positions_label = [(0.6, 0.4), (1.1, -0.15)]\n",
    "positions_percent = [(0, 0.2), (0.7, -0.1)]\n",
    "fontweights = ['bold', 'normal']\n",
    "colors = ['white', 'black']\n",
    "\n",
    "for texte, position_label, fontweight, color, percent, position_percent \\\n",
    "in zip(textes, positions_label, fontweights, colors, percents, positions_percent):\n",
    "    plt.setp(texte, position = position_label, fontweight = fontweight, color = color)\n",
    "    plt.setp(percent, position = position_percent, fontweight = fontweight, color = color)"
   ]
  },
  {
   "cell_type": "code",
   "execution_count": 71,
   "id": "7e2ece7d",
   "metadata": {},
   "outputs": [
    {
     "data": {
      "image/png": "[encoded data removed]",
      "text/plain": [
       "<Figure size 1000x700 with 1 Axes>"
      ]
     },
     "metadata": {},
     "output_type": "display_data"
    }
   ],
   "source": [
    "# Le phénomène parait minoritaire mais hélas il semble concerner tous les partis…\n",
    "fig = plt.figure(figsize = (10, 7))\n",
    "ax = fig.add_subplot(111)\n",
    "sns.stripplot(data = df.query('nb_exemplaires > 1'), y = 'political_party', x = 'nb_exemplaires', ax = ax, orient = 'v')\n",
    "ax.set_xlabel('Nombre d’exemplaires')\n",
    "ax.set_ylabel('Parti politique');"
   ]
  },
  {
   "cell_type": "code",
   "execution_count": 28,
   "id": "692e4b21",
   "metadata": {},
   "outputs": [],
   "source": [
    "# Y a-t-il des partis où il n’y a pas eu de factures doublonnées ?"
   ]
  },
  {
   "cell_type": "code",
   "execution_count": 71,
   "id": "a9c55ce4",
   "metadata": {},
   "outputs": [
    {
     "data": {
      "text/plain": [
       "political_party\n",
       "AVANTE                     757\n",
       "DEM                       7614\n",
       "PCDOB                     2499\n",
       "PDT                       4011\n",
       "PEN                        383\n",
       "PHS                       1406\n",
       "PMDB                     14023\n",
       "PMN                        219\n",
       "PODE                      2126\n",
       "PP                       11000\n",
       "PPS                       1571\n",
       "PR                        9347\n",
       "PRB                       2181\n",
       "PROS                      1279\n",
       "PRP                        317\n",
       "PRTB                        11\n",
       "PSB                       7728\n",
       "PSC                       1693\n",
       "PSD                       5866\n",
       "PSDB                     12055\n",
       "PSDC                        15\n",
       "PSL                        311\n",
       "PSOL                       985\n",
       "PT                       18232\n",
       "PTB                       3426\n",
       "PTC                        157\n",
       "PTDOB                       83\n",
       "PV                        3270\n",
       "REDE                       565\n",
       "S.PART.                    375\n",
       "SD                        2782\n",
       "SEM PARTIDO ASSOCIADO       70\n",
       "dtype: int64"
      ]
     },
     "execution_count": 71,
     "metadata": {},
     "output_type": "execute_result"
    }
   ],
   "source": [
    "df[df['nb_exemplaires'] > 1].groupby('political_party').size()"
   ]
  },
  {
   "cell_type": "markdown",
   "id": "01713513",
   "metadata": {},
   "source": [
    "Non, aucun n’est à zéro…"
   ]
  },
  {
   "cell_type": "code",
   "execution_count": null,
   "id": "8573156c",
   "metadata": {},
   "outputs": [],
   "source": [
    "# Y a-t-il un lien entre le fait qu’une facture soit dupliquée et la présence ou non d’un numéro de sécurité sociale ?"
   ]
  },
  {
   "cell_type": "code",
   "execution_count": 72,
   "id": "b1128eb1",
   "metadata": {},
   "outputs": [
    {
     "data": {
      "text/plain": [
       "0"
      ]
     },
     "execution_count": 72,
     "metadata": {},
     "output_type": "execute_result"
    }
   ],
   "source": [
    "df.loc[df['nb_exemplaires'] > 1, 'receipt_social_security_number'].isna().sum()"
   ]
  },
  {
   "cell_type": "markdown",
   "id": "fcc20155",
   "metadata": {},
   "source": [
    "Et ils ont tous leur numéro de sécurité social renseigné."
   ]
  },
  {
   "cell_type": "code",
   "execution_count": null,
   "id": "b754c2be",
   "metadata": {},
   "outputs": [],
   "source": [
    "# Et la date bugguée ?"
   ]
  },
  {
   "cell_type": "code",
   "execution_count": 78,
   "id": "0309bdba",
   "metadata": {},
   "outputs": [
    {
     "data": {
      "text/plain": [
       "False    116083\n",
       "True        274\n",
       "Name: bugged_date, dtype: int64"
      ]
     },
     "execution_count": 78,
     "metadata": {},
     "output_type": "execute_result"
    }
   ],
   "source": [
    "(\n",
    "    doublons_date_bugguée := df.loc[df['nb_exemplaires'] > 1, 'bugged_date'].value_counts()\n",
    ")"
   ]
  },
  {
   "cell_type": "code",
   "execution_count": null,
   "id": "4721e5ce",
   "metadata": {},
   "outputs": [],
   "source": [
    "# Et leur date pour la grande majorité est non bugguée."
   ]
  },
  {
   "cell_type": "code",
   "execution_count": null,
   "id": "d4b57aaa",
   "metadata": {},
   "outputs": [],
   "source": [
    "# Sont-il plus le fait d’un député, d’une entreprise, d’un parti, d’un état ?"
   ]
  },
  {
   "cell_type": "code",
   "execution_count": null,
   "id": "9811c08c",
   "metadata": {},
   "outputs": [],
   "source": [
    "# Nous avons vu que certains députés ont beaucoup de doublons."
   ]
  },
  {
   "cell_type": "code",
   "execution_count": 653,
   "id": "501a7278",
   "metadata": {},
   "outputs": [
    {
     "data": {
      "text/html": [
       "<div>\n",
       "<style scoped>\n",
       "    .dataframe tbody tr th:only-of-type {\n",
       "        vertical-align: middle;\n",
       "    }\n",
       "\n",
       "    .dataframe tbody tr th {\n",
       "        vertical-align: top;\n",
       "    }\n",
       "\n",
       "    .dataframe thead th {\n",
       "        text-align: right;\n",
       "    }\n",
       "</style>\n",
       "<table border=\"1\" class=\"dataframe\">\n",
       "  <thead>\n",
       "    <tr style=\"text-align: right;\">\n",
       "      <th></th>\n",
       "      <th>nb_doublons</th>\n",
       "      <th>political_party</th>\n",
       "    </tr>\n",
       "    <tr>\n",
       "      <th>deputy_name</th>\n",
       "      <th></th>\n",
       "      <th></th>\n",
       "    </tr>\n",
       "  </thead>\n",
       "  <tbody>\n",
       "    <tr>\n",
       "      <th>Abel Mesquita Jr.</th>\n",
       "      <td>254</td>\n",
       "      <td>DEM</td>\n",
       "    </tr>\n",
       "    <tr>\n",
       "      <th>Abelardo Camarinha</th>\n",
       "      <td>95</td>\n",
       "      <td>PSB</td>\n",
       "    </tr>\n",
       "    <tr>\n",
       "      <th>Abelardo Lupion</th>\n",
       "      <td>77</td>\n",
       "      <td>DEM</td>\n",
       "    </tr>\n",
       "    <tr>\n",
       "      <th>Acelino Popó</th>\n",
       "      <td>134</td>\n",
       "      <td>PRB</td>\n",
       "    </tr>\n",
       "    <tr>\n",
       "      <th>Acélio Casagrande</th>\n",
       "      <td>34</td>\n",
       "      <td>PMDB</td>\n",
       "    </tr>\n",
       "    <tr>\n",
       "      <th>...</th>\n",
       "      <td>...</td>\n",
       "      <td>...</td>\n",
       "    </tr>\n",
       "    <tr>\n",
       "      <th>Átila A. Nunes</th>\n",
       "      <td>1</td>\n",
       "      <td>PMDB</td>\n",
       "    </tr>\n",
       "    <tr>\n",
       "      <th>Átila Lins</th>\n",
       "      <td>25</td>\n",
       "      <td>PSD</td>\n",
       "    </tr>\n",
       "    <tr>\n",
       "      <th>Átila Lira</th>\n",
       "      <td>66</td>\n",
       "      <td>PSB</td>\n",
       "    </tr>\n",
       "    <tr>\n",
       "      <th>Ângelo Agnolin</th>\n",
       "      <td>7</td>\n",
       "      <td>PDT</td>\n",
       "    </tr>\n",
       "    <tr>\n",
       "      <th>Íris De Araújo</th>\n",
       "      <td>60</td>\n",
       "      <td>PMDB</td>\n",
       "    </tr>\n",
       "  </tbody>\n",
       "</table>\n",
       "<p>1114 rows × 2 columns</p>\n",
       "</div>"
      ],
      "text/plain": [
       "                    nb_doublons political_party\n",
       "deputy_name                                    \n",
       "Abel Mesquita Jr.           254             DEM\n",
       "Abelardo Camarinha           95             PSB\n",
       "Abelardo Lupion              77             DEM\n",
       "Acelino Popó                134             PRB\n",
       "Acélio Casagrande            34            PMDB\n",
       "...                         ...             ...\n",
       "Átila A. Nunes                1            PMDB\n",
       "Átila Lins                   25             PSD\n",
       "Átila Lira                   66             PSB\n",
       "Ângelo Agnolin                7             PDT\n",
       "Íris De Araújo               60            PMDB\n",
       "\n",
       "[1114 rows x 2 columns]"
      ]
     },
     "execution_count": 653,
     "metadata": {},
     "output_type": "execute_result"
    }
   ],
   "source": [
    "(\n",
    "doublons_depute := df[df['nb_exemplaires']>1].groupby('deputy_name').agg({'nb_exemplaires': lambda x: (x -1).sum(), 'political_party': lambda x : x.unique()[0]})\\\n",
    "    .rename(columns = {'nb_exemplaires': 'nb_doublons'})\n",
    ")"
   ]
  },
  {
   "cell_type": "code",
   "execution_count": 656,
   "id": "2e588d67",
   "metadata": {},
   "outputs": [],
   "source": [
    "doublons_depute = doublons_depute.sort_values('nb_doublons', ascending = False)"
   ]
  },
  {
   "cell_type": "code",
   "execution_count": 664,
   "id": "625f4c24",
   "metadata": {},
   "outputs": [
    {
     "data": {
      "text/html": [
       "<div>\n",
       "<style scoped>\n",
       "    .dataframe tbody tr th:only-of-type {\n",
       "        vertical-align: middle;\n",
       "    }\n",
       "\n",
       "    .dataframe tbody tr th {\n",
       "        vertical-align: top;\n",
       "    }\n",
       "\n",
       "    .dataframe thead th {\n",
       "        text-align: right;\n",
       "    }\n",
       "</style>\n",
       "<table border=\"1\" class=\"dataframe\">\n",
       "  <thead>\n",
       "    <tr style=\"text-align: right;\">\n",
       "      <th></th>\n",
       "      <th>nb_doublons</th>\n",
       "      <th>political_party</th>\n",
       "    </tr>\n",
       "    <tr>\n",
       "      <th>deputy_name</th>\n",
       "      <th></th>\n",
       "      <th></th>\n",
       "    </tr>\n",
       "  </thead>\n",
       "  <tbody>\n",
       "    <tr>\n",
       "      <th>Jorge Tadeu Mudalen</th>\n",
       "      <td>4384</td>\n",
       "      <td>DEM</td>\n",
       "    </tr>\n",
       "    <tr>\n",
       "      <th>Bonifácio De Andrada</th>\n",
       "      <td>2431</td>\n",
       "      <td>PSDB</td>\n",
       "    </tr>\n",
       "    <tr>\n",
       "      <th>Júlio Delgado</th>\n",
       "      <td>2102</td>\n",
       "      <td>PSB</td>\n",
       "    </tr>\n",
       "    <tr>\n",
       "      <th>Vilson Covatti</th>\n",
       "      <td>1648</td>\n",
       "      <td>PP</td>\n",
       "    </tr>\n",
       "    <tr>\n",
       "      <th>Henrique Fontana</th>\n",
       "      <td>1580</td>\n",
       "      <td>PT</td>\n",
       "    </tr>\n",
       "    <tr>\n",
       "      <th>Nelson Meurer</th>\n",
       "      <td>1564</td>\n",
       "      <td>PP</td>\n",
       "    </tr>\n",
       "    <tr>\n",
       "      <th>Pepe Vargas</th>\n",
       "      <td>1417</td>\n",
       "      <td>PT</td>\n",
       "    </tr>\n",
       "    <tr>\n",
       "      <th>Marco Maia</th>\n",
       "      <td>1407</td>\n",
       "      <td>PT</td>\n",
       "    </tr>\n",
       "    <tr>\n",
       "      <th>Vanderlei Macris</th>\n",
       "      <td>1293</td>\n",
       "      <td>PSDB</td>\n",
       "    </tr>\n",
       "    <tr>\n",
       "      <th>Ana Perugini</th>\n",
       "      <td>1256</td>\n",
       "      <td>PT</td>\n",
       "    </tr>\n",
       "    <tr>\n",
       "      <th>Dr. Adilson Soares</th>\n",
       "      <td>1223</td>\n",
       "      <td>PR</td>\n",
       "    </tr>\n",
       "    <tr>\n",
       "      <th>Guilherme Campos</th>\n",
       "      <td>1217</td>\n",
       "      <td>PSD</td>\n",
       "    </tr>\n",
       "    <tr>\n",
       "      <th>Marinaldo Rosendo</th>\n",
       "      <td>1075</td>\n",
       "      <td>PSB</td>\n",
       "    </tr>\n",
       "    <tr>\n",
       "      <th>Sérgio Moraes</th>\n",
       "      <td>1068</td>\n",
       "      <td>PTB</td>\n",
       "    </tr>\n",
       "    <tr>\n",
       "      <th>Antonio Carlos Mendes Thame</th>\n",
       "      <td>1052</td>\n",
       "      <td>PV</td>\n",
       "    </tr>\n",
       "    <tr>\n",
       "      <th>Miguel Lombardi</th>\n",
       "      <td>1016</td>\n",
       "      <td>PR</td>\n",
       "    </tr>\n",
       "    <tr>\n",
       "      <th>Paulo Maluf</th>\n",
       "      <td>1014</td>\n",
       "      <td>PP</td>\n",
       "    </tr>\n",
       "    <tr>\n",
       "      <th>Paulo Freire</th>\n",
       "      <td>995</td>\n",
       "      <td>PR</td>\n",
       "    </tr>\n",
       "    <tr>\n",
       "      <th>Duarte Nogueira</th>\n",
       "      <td>985</td>\n",
       "      <td>PSDB</td>\n",
       "    </tr>\n",
       "    <tr>\n",
       "      <th>Hugo Leal</th>\n",
       "      <td>940</td>\n",
       "      <td>PSB</td>\n",
       "    </tr>\n",
       "  </tbody>\n",
       "</table>\n",
       "</div>"
      ],
      "text/plain": [
       "                             nb_doublons political_party\n",
       "deputy_name                                             \n",
       "Jorge Tadeu Mudalen                 4384             DEM\n",
       "Bonifácio De Andrada                2431            PSDB\n",
       "Júlio Delgado                       2102             PSB\n",
       "Vilson Covatti                      1648              PP\n",
       "Henrique Fontana                    1580              PT\n",
       "Nelson Meurer                       1564              PP\n",
       "Pepe Vargas                         1417              PT\n",
       "Marco Maia                          1407              PT\n",
       "Vanderlei Macris                    1293            PSDB\n",
       "Ana Perugini                        1256              PT\n",
       "Dr. Adilson Soares                  1223              PR\n",
       "Guilherme Campos                    1217             PSD\n",
       "Marinaldo Rosendo                   1075             PSB\n",
       "Sérgio Moraes                       1068             PTB\n",
       "Antonio Carlos Mendes Thame         1052              PV\n",
       "Miguel Lombardi                     1016              PR\n",
       "Paulo Maluf                         1014              PP\n",
       "Paulo Freire                         995              PR\n",
       "Duarte Nogueira                      985            PSDB\n",
       "Hugo Leal                            940             PSB"
      ]
     },
     "execution_count": 664,
     "metadata": {},
     "output_type": "execute_result"
    }
   ],
   "source": [
    "doublons_depute[:20]"
   ]
  },
  {
   "cell_type": "code",
   "execution_count": 673,
   "id": "a3cb2d50",
   "metadata": {},
   "outputs": [
    {
     "data": {
      "image/png": "[encoded data removed]",
      "text/plain": [
       "<Figure size 900x900 with 1 Axes>"
      ]
     },
     "metadata": {},
     "output_type": "display_data"
    }
   ],
   "source": [
    "fig, ax = plt.subplots(figsize = (9, 9))\n",
    "bars = ax.barh(y = list(reversed(doublons_depute[:20].index)),\n",
    "         width = list(reversed(doublons_depute[:20]['nb_doublons'])), height = 0.6, color = '#1c66b0')\n",
    "ax.spines[['right', 'top', 'bottom']].set_visible(False)\n",
    "ax.xaxis.set_visible(False)\n",
    "ax.bar_label(bars, padding = 3, label_type = 'edge', fontstyle = 'italic', color = '#1c66b0',\n",
    "            fontweight = 'bold')\n",
    "plt.title('Les vingt députés qui ont fait le plus de doublons');"
   ]
  },
  {
   "cell_type": "code",
   "execution_count": null,
   "id": "7f6db528",
   "metadata": {},
   "outputs": [],
   "source": [
    "Y a-t-il une surreprésentation de certains partis ?"
   ]
  },
  {
   "cell_type": "markdown",
   "id": "bfbfb194",
   "metadata": {},
   "source": [
    "# Doublons par entreprise"
   ]
  },
  {
   "cell_type": "code",
   "execution_count": null,
   "id": "cc078318",
   "metadata": {},
   "outputs": [],
   "source": [
    "# Seraient-ils plus le fait de certaines entreprises ?"
   ]
  },
  {
   "cell_type": "code",
   "execution_count": 81,
   "id": "f8055ab4",
   "metadata": {},
   "outputs": [
    {
     "data": {
      "text/plain": [
       "establishment_name\n",
       "Cia Aérea - TAM                                                 27546\n",
       "Cia Aérea - GOL                                                 20356\n",
       "Cia Aérea - AVIANCA                                              6603\n",
       "Cia Aérea - AZUL                                                 4066\n",
       "Conc. Sistema Anhanguera-Bandeirantes S/A                        2083\n",
       "UNIVIAS                                                          1146\n",
       "SINPETAXI                                                         841\n",
       "Cia Aérea - TRIP                                                  837\n",
       "CONCER                                                            828\n",
       "Cia Aérea - PASSAREDO                                             801\n",
       "Cia Aérea - WEBJET                                                766\n",
       "CAMINHOS DO PARANA S/A                                            716\n",
       "CONVIAS S/A                                                       689\n",
       "AUTO PISTA FERNÃO DIAS                                            649\n",
       "CONCESS. DA RODOVIA PRESIDENTE DUTRA S.A.                         522\n",
       "COVIPLAN                                                          476\n",
       "AUTOVIAS                                                          426\n",
       "EMPRESA CONCESSIONÁRIA DE RODOVIAS DO SUL S.A                     417\n",
       "Concessionaria das Rodovias Ayrton Senna e Carvalho Pinto SA      408\n",
       "VIA 40 CONCESSIONARIA BR040 S/A                                   360\n",
       "dtype: int64"
      ]
     },
     "execution_count": 81,
     "metadata": {},
     "output_type": "execute_result"
    }
   ],
   "source": [
    "(\n",
    "    doublons_entreprise := df[df['nb_exemplaires'] > 1].groupby('establishment_name')\\\n",
    "    .size().sort_values(ascending = False)\n",
    ").head(20)"
   ]
  },
  {
   "cell_type": "markdown",
   "id": "a36315d1",
   "metadata": {},
   "source": [
    "Ci-dessus les vingt entreprises avec lesquelles il y a le plus de doublons…"
   ]
  },
  {
   "cell_type": "markdown",
   "id": "fee2327c",
   "metadata": {},
   "source": [
    "# Doublons par parti"
   ]
  },
  {
   "cell_type": "code",
   "execution_count": 678,
   "id": "a6ccffd6",
   "metadata": {},
   "outputs": [
    {
     "data": {
      "text/html": [
       "<div>\n",
       "<style scoped>\n",
       "    .dataframe tbody tr th:only-of-type {\n",
       "        vertical-align: middle;\n",
       "    }\n",
       "\n",
       "    .dataframe tbody tr th {\n",
       "        vertical-align: top;\n",
       "    }\n",
       "\n",
       "    .dataframe thead th {\n",
       "        text-align: right;\n",
       "    }\n",
       "</style>\n",
       "<table border=\"1\" class=\"dataframe\">\n",
       "  <thead>\n",
       "    <tr style=\"text-align: right;\">\n",
       "      <th></th>\n",
       "      <th>nb_doublons</th>\n",
       "    </tr>\n",
       "    <tr>\n",
       "      <th>political_party</th>\n",
       "      <th></th>\n",
       "    </tr>\n",
       "  </thead>\n",
       "  <tbody>\n",
       "    <tr>\n",
       "      <th>PT</th>\n",
       "      <td>25386</td>\n",
       "    </tr>\n",
       "    <tr>\n",
       "      <th>PMDB</th>\n",
       "      <td>19807</td>\n",
       "    </tr>\n",
       "    <tr>\n",
       "      <th>PSDB</th>\n",
       "      <td>17295</td>\n",
       "    </tr>\n",
       "    <tr>\n",
       "      <th>PP</th>\n",
       "      <td>15473</td>\n",
       "    </tr>\n",
       "    <tr>\n",
       "      <th>PR</th>\n",
       "      <td>13986</td>\n",
       "    </tr>\n",
       "    <tr>\n",
       "      <th>PSB</th>\n",
       "      <td>12214</td>\n",
       "    </tr>\n",
       "    <tr>\n",
       "      <th>DEM</th>\n",
       "      <td>11855</td>\n",
       "    </tr>\n",
       "    <tr>\n",
       "      <th>PSD</th>\n",
       "      <td>8263</td>\n",
       "    </tr>\n",
       "    <tr>\n",
       "      <th>PDT</th>\n",
       "      <td>5788</td>\n",
       "    </tr>\n",
       "    <tr>\n",
       "      <th>PTB</th>\n",
       "      <td>4690</td>\n",
       "    </tr>\n",
       "    <tr>\n",
       "      <th>PV</th>\n",
       "      <td>4421</td>\n",
       "    </tr>\n",
       "    <tr>\n",
       "      <th>SD</th>\n",
       "      <td>3861</td>\n",
       "    </tr>\n",
       "    <tr>\n",
       "      <th>PCDOB</th>\n",
       "      <td>3356</td>\n",
       "    </tr>\n",
       "    <tr>\n",
       "      <th>PODE</th>\n",
       "      <td>3194</td>\n",
       "    </tr>\n",
       "    <tr>\n",
       "      <th>PRB</th>\n",
       "      <td>3122</td>\n",
       "    </tr>\n",
       "    <tr>\n",
       "      <th>PSC</th>\n",
       "      <td>2385</td>\n",
       "    </tr>\n",
       "    <tr>\n",
       "      <th>PPS</th>\n",
       "      <td>2041</td>\n",
       "    </tr>\n",
       "    <tr>\n",
       "      <th>PHS</th>\n",
       "      <td>2027</td>\n",
       "    </tr>\n",
       "    <tr>\n",
       "      <th>PROS</th>\n",
       "      <td>1974</td>\n",
       "    </tr>\n",
       "    <tr>\n",
       "      <th>PSOL</th>\n",
       "      <td>1534</td>\n",
       "    </tr>\n",
       "    <tr>\n",
       "      <th>AVANTE</th>\n",
       "      <td>1039</td>\n",
       "    </tr>\n",
       "    <tr>\n",
       "      <th>REDE</th>\n",
       "      <td>769</td>\n",
       "    </tr>\n",
       "    <tr>\n",
       "      <th>PEN</th>\n",
       "      <td>505</td>\n",
       "    </tr>\n",
       "    <tr>\n",
       "      <th>PRP</th>\n",
       "      <td>490</td>\n",
       "    </tr>\n",
       "    <tr>\n",
       "      <th>S.PART.</th>\n",
       "      <td>416</td>\n",
       "    </tr>\n",
       "    <tr>\n",
       "      <th>PSL</th>\n",
       "      <td>359</td>\n",
       "    </tr>\n",
       "    <tr>\n",
       "      <th>PMN</th>\n",
       "      <td>304</td>\n",
       "    </tr>\n",
       "    <tr>\n",
       "      <th>PTC</th>\n",
       "      <td>189</td>\n",
       "    </tr>\n",
       "    <tr>\n",
       "      <th>PTDOB</th>\n",
       "      <td>105</td>\n",
       "    </tr>\n",
       "    <tr>\n",
       "      <th>SEM PARTIDO ASSOCIADO</th>\n",
       "      <td>77</td>\n",
       "    </tr>\n",
       "    <tr>\n",
       "      <th>PSDC</th>\n",
       "      <td>22</td>\n",
       "    </tr>\n",
       "    <tr>\n",
       "      <th>PRTB</th>\n",
       "      <td>18</td>\n",
       "    </tr>\n",
       "  </tbody>\n",
       "</table>\n",
       "</div>"
      ],
      "text/plain": [
       "                       nb_doublons\n",
       "political_party                   \n",
       "PT                           25386\n",
       "PMDB                         19807\n",
       "PSDB                         17295\n",
       "PP                           15473\n",
       "PR                           13986\n",
       "PSB                          12214\n",
       "DEM                          11855\n",
       "PSD                           8263\n",
       "PDT                           5788\n",
       "PTB                           4690\n",
       "PV                            4421\n",
       "SD                            3861\n",
       "PCDOB                         3356\n",
       "PODE                          3194\n",
       "PRB                           3122\n",
       "PSC                           2385\n",
       "PPS                           2041\n",
       "PHS                           2027\n",
       "PROS                          1974\n",
       "PSOL                          1534\n",
       "AVANTE                        1039\n",
       "REDE                           769\n",
       "PEN                            505\n",
       "PRP                            490\n",
       "S.PART.                        416\n",
       "PSL                            359\n",
       "PMN                            304\n",
       "PTC                            189\n",
       "PTDOB                          105\n",
       "SEM PARTIDO ASSOCIADO           77\n",
       "PSDC                            22\n",
       "PRTB                            18"
      ]
     },
     "execution_count": 678,
     "metadata": {},
     "output_type": "execute_result"
    }
   ],
   "source": [
    "(\n",
    "doublons_party := df[df['nb_exemplaires'] > 1].groupby('political_party')\\\n",
    "    .agg({'nb_exemplaires': lambda x : (x -1).sum()}).sort_values(by = 'nb_exemplaires', ascending = False)\\\n",
    "    .rename(columns = {'nb_exemplaires': 'nb_doublons'})\n",
    ")"
   ]
  },
  {
   "cell_type": "code",
   "execution_count": 85,
   "id": "ec2482cf",
   "metadata": {},
   "outputs": [
    {
     "data": {
      "text/plain": [
       "(32,)"
      ]
     },
     "execution_count": 85,
     "metadata": {},
     "output_type": "execute_result"
    }
   ],
   "source": [
    "doublons_party.index.shape"
   ]
  },
  {
   "cell_type": "code",
   "execution_count": null,
   "id": "86066795",
   "metadata": {},
   "outputs": [],
   "source": [
    "# Quels sont les partis qui ont le plus de députés pour une période de temps donné ?"
   ]
  },
  {
   "cell_type": "code",
   "execution_count": 9,
   "id": "963f493f",
   "metadata": {},
   "outputs": [
    {
     "data": {
      "text/plain": [
       "array(['PSB', 'DEM', 'PRB', 'PODE', 'PMDB', 'PR', 'PT', 'PP', 'PSDB',\n",
       "       'REDE', 'PTB', 'PSD', 'PSL', 'PCDOB', 'PDT', 'PSC', 'S.PART.',\n",
       "       'PV', 'SD', 'PPS', 'PSOL', 'PRP', 'PROS', 'PMN', 'PHS', 'PEN',\n",
       "       'SEM PARTIDO ASSOCIADO', 'PTDOB', 'AVANTE', 'PSDC', 'PTC', 'PRTB'],\n",
       "      dtype=object)"
      ]
     },
     "execution_count": 9,
     "metadata": {},
     "output_type": "execute_result"
    }
   ],
   "source": [
    "(\n",
    "    partis := df['political_party'].unique()\n",
    ")"
   ]
  },
  {
   "cell_type": "code",
   "execution_count": 24,
   "id": "4847ff72",
   "metadata": {},
   "outputs": [
    {
     "name": "stdout",
     "output_type": "stream",
     "text": [
      "Le nombre total de partis est de 32.\n"
     ]
    }
   ],
   "source": [
    "print(f\"Le nombre total de partis est de {len(partis)}.\")"
   ]
  },
  {
   "cell_type": "code",
   "execution_count": 31,
   "id": "e0185247",
   "metadata": {},
   "outputs": [
    {
     "data": {
      "text/plain": [
       "PT      36958\n",
       "PSDB    34853\n",
       "PP      23507\n",
       "PSB     22856\n",
       "PR      16085\n",
       "DEM     15590\n",
       "PV      10069\n",
       "PSD      7202\n",
       "PTB      6794\n",
       "PHS      5840\n",
       "Name: political_party, dtype: int64"
      ]
     },
     "execution_count": 31,
     "metadata": {},
     "output_type": "execute_result"
    }
   ],
   "source": [
    "df.loc[df['deputy_name'].isin(doublons_depute.iloc[0:20].index), 'political_party'].value_counts()"
   ]
  },
  {
   "cell_type": "markdown",
   "id": "0c374de5",
   "metadata": {},
   "source": [
    "# Les factures gonflées"
   ]
  },
  {
   "cell_type": "code",
   "execution_count": 18,
   "id": "6810527e",
   "metadata": {},
   "outputs": [],
   "source": [
    "# Combien y a-t-il de postes de dépenses ?"
   ]
  },
  {
   "cell_type": "code",
   "execution_count": 19,
   "id": "934231fb",
   "metadata": {},
   "outputs": [
    {
     "data": {
      "text/plain": [
       "21"
      ]
     },
     "execution_count": 19,
     "metadata": {},
     "output_type": "execute_result"
    }
   ],
   "source": [
    "df['receipt_description'].nunique()"
   ]
  },
  {
   "cell_type": "code",
   "execution_count": null,
   "id": "d2e3d03f",
   "metadata": {},
   "outputs": [],
   "source": [
    "# Quels sont ces 21 postes ?"
   ]
  },
  {
   "cell_type": "code",
   "execution_count": 20,
   "id": "ba51ab00",
   "metadata": {},
   "outputs": [
    {
     "data": {
      "text/plain": [
       "array(['Fuels and lubricants.',\n",
       "       'Dissemination of the Parliamentary Activity.', 'Airline tickets',\n",
       "       'Telephony', 'Postal Services',\n",
       "       'Renting of motor vehicles or chartering of boats',\n",
       "       'Maintenance of Office',\n",
       "       'Consultancies, Researches and Technical Works.', 'Food and Meals',\n",
       "       'Hosting, except for the Parliamentary in the Federal District.',\n",
       "       'Rental or Chartering of Motor Vehicles',\n",
       "       'Security Service Provided By Specialized Company.',\n",
       "       'Taxi Service, Toll & Parking', 'Land, Sea or River Tickets',\n",
       "       'Publication Subscription', 'Renting or Chartering of Aircraft',\n",
       "       'Leasing or Chartering of Boats',\n",
       "       'Participation in Course, Lecture or Similar Event',\n",
       "       'Locomotion, Food and Lodging', 'Acquisition of Office Supplies.',\n",
       "       'Acquisition or Location of Software for Postal Services'],\n",
       "      dtype=object)"
      ]
     },
     "execution_count": 20,
     "metadata": {},
     "output_type": "execute_result"
    }
   ],
   "source": [
    "df['receipt_description'].unique()"
   ]
  },
  {
   "cell_type": "code",
   "execution_count": null,
   "id": "c652af61",
   "metadata": {},
   "outputs": [],
   "source": [
    "# Et combien y a-t-il d’entreprises différentes concernées par ces 21 postes de dépenses ?"
   ]
  },
  {
   "cell_type": "code",
   "execution_count": 30,
   "id": "992f7ee1",
   "metadata": {},
   "outputs": [
    {
     "data": {
      "text/html": [
       "<div>\n",
       "<style scoped>\n",
       "    .dataframe tbody tr th:only-of-type {\n",
       "        vertical-align: middle;\n",
       "    }\n",
       "\n",
       "    .dataframe tbody tr th {\n",
       "        vertical-align: top;\n",
       "    }\n",
       "\n",
       "    .dataframe thead th {\n",
       "        text-align: right;\n",
       "    }\n",
       "</style>\n",
       "<table border=\"1\" class=\"dataframe\">\n",
       "  <thead>\n",
       "    <tr style=\"text-align: right;\">\n",
       "      <th></th>\n",
       "      <th>establishment_name</th>\n",
       "    </tr>\n",
       "    <tr>\n",
       "      <th>receipt_description</th>\n",
       "      <th></th>\n",
       "    </tr>\n",
       "  </thead>\n",
       "  <tbody>\n",
       "    <tr>\n",
       "      <th>Acquisition of Office Supplies.</th>\n",
       "      <td>1601</td>\n",
       "    </tr>\n",
       "    <tr>\n",
       "      <th>Acquisition or Location of Software for Postal Services</th>\n",
       "      <td>2634</td>\n",
       "    </tr>\n",
       "    <tr>\n",
       "      <th>Airline tickets</th>\n",
       "      <td>796697</td>\n",
       "    </tr>\n",
       "    <tr>\n",
       "      <th>Consultancies, Researches and Technical Works.</th>\n",
       "      <td>24062</td>\n",
       "    </tr>\n",
       "    <tr>\n",
       "      <th>Dissemination of the Parliamentary Activity.</th>\n",
       "      <td>73132</td>\n",
       "    </tr>\n",
       "    <tr>\n",
       "      <th>Food and Meals</th>\n",
       "      <td>212036</td>\n",
       "    </tr>\n",
       "    <tr>\n",
       "      <th>Fuels and lubricants.</th>\n",
       "      <td>635534</td>\n",
       "    </tr>\n",
       "    <tr>\n",
       "      <th>Hosting, except for the Parliamentary in the Federal District.</th>\n",
       "      <td>49880</td>\n",
       "    </tr>\n",
       "    <tr>\n",
       "      <th>Land, Sea or River Tickets</th>\n",
       "      <td>3938</td>\n",
       "    </tr>\n",
       "    <tr>\n",
       "      <th>Leasing or Chartering of Boats</th>\n",
       "      <td>190</td>\n",
       "    </tr>\n",
       "    <tr>\n",
       "      <th>Locomotion, Food and Lodging</th>\n",
       "      <td>15818</td>\n",
       "    </tr>\n",
       "    <tr>\n",
       "      <th>Maintenance of Office</th>\n",
       "      <td>186202</td>\n",
       "    </tr>\n",
       "    <tr>\n",
       "      <th>Participation in Course, Lecture or Similar Event</th>\n",
       "      <td>68</td>\n",
       "    </tr>\n",
       "    <tr>\n",
       "      <th>Postal Services</th>\n",
       "      <td>332467</td>\n",
       "    </tr>\n",
       "    <tr>\n",
       "      <th>Publication Subscription</th>\n",
       "      <td>5103</td>\n",
       "    </tr>\n",
       "    <tr>\n",
       "      <th>Rental or Chartering of Motor Vehicles</th>\n",
       "      <td>21781</td>\n",
       "    </tr>\n",
       "    <tr>\n",
       "      <th>Renting of motor vehicles or chartering of boats</th>\n",
       "      <td>145810</td>\n",
       "    </tr>\n",
       "    <tr>\n",
       "      <th>Renting or Chartering of Aircraft</th>\n",
       "      <td>1561</td>\n",
       "    </tr>\n",
       "    <tr>\n",
       "      <th>Security Service Provided By Specialized Company.</th>\n",
       "      <td>7624</td>\n",
       "    </tr>\n",
       "    <tr>\n",
       "      <th>Taxi Service, Toll &amp; Parking</th>\n",
       "      <td>96675</td>\n",
       "    </tr>\n",
       "    <tr>\n",
       "      <th>Telephony</th>\n",
       "      <td>402089</td>\n",
       "    </tr>\n",
       "  </tbody>\n",
       "</table>\n",
       "</div>"
      ],
      "text/plain": [
       "                                                    establishment_name\n",
       "receipt_description                                                   \n",
       "Acquisition of Office Supplies.                                   1601\n",
       "Acquisition or Location of Software for Postal ...                2634\n",
       "Airline tickets                                                 796697\n",
       "Consultancies, Researches and Technical Works.                   24062\n",
       "Dissemination of the Parliamentary Activity.                     73132\n",
       "Food and Meals                                                  212036\n",
       "Fuels and lubricants.                                           635534\n",
       "Hosting, except for the Parliamentary in the Fe...               49880\n",
       "Land, Sea or River Tickets                                        3938\n",
       "Leasing or Chartering of Boats                                     190\n",
       "Locomotion, Food and Lodging                                     15818\n",
       "Maintenance of Office                                           186202\n",
       "Participation in Course, Lecture or Similar Event                   68\n",
       "Postal Services                                                 332467\n",
       "Publication Subscription                                          5103\n",
       "Rental or Chartering of Motor Vehicles                           21781\n",
       "Renting of motor vehicles or chartering of boats                145810\n",
       "Renting or Chartering of Aircraft                                 1561\n",
       "Security Service Provided By Specialized Company.                 7624\n",
       "Taxi Service, Toll & Parking                                     96675\n",
       "Telephony                                                       402089"
      ]
     },
     "execution_count": 30,
     "metadata": {},
     "output_type": "execute_result"
    }
   ],
   "source": [
    "df.groupby(['receipt_description'])['establishment_name'].count().to_frame()"
   ]
  },
  {
   "cell_type": "code",
   "execution_count": 34,
   "id": "f2577428",
   "metadata": {},
   "outputs": [
    {
     "data": {
      "text/html": [
       "<div>\n",
       "<style scoped>\n",
       "    .dataframe tbody tr th:only-of-type {\n",
       "        vertical-align: middle;\n",
       "    }\n",
       "\n",
       "    .dataframe tbody tr th {\n",
       "        vertical-align: top;\n",
       "    }\n",
       "\n",
       "    .dataframe thead th {\n",
       "        text-align: right;\n",
       "    }\n",
       "</style>\n",
       "<table border=\"1\" class=\"dataframe\">\n",
       "  <thead>\n",
       "    <tr style=\"text-align: right;\">\n",
       "      <th></th>\n",
       "      <th></th>\n",
       "      <th>bugged_date</th>\n",
       "      <th>receipt_date</th>\n",
       "      <th>deputy_id</th>\n",
       "      <th>political_party</th>\n",
       "      <th>state_code</th>\n",
       "      <th>deputy_name</th>\n",
       "      <th>receipt_social_security_number</th>\n",
       "      <th>receipt_value</th>\n",
       "      <th>periode</th>\n",
       "      <th>nb_exemplaires</th>\n",
       "    </tr>\n",
       "    <tr>\n",
       "      <th>receipt_description</th>\n",
       "      <th>establishment_name</th>\n",
       "      <th></th>\n",
       "      <th></th>\n",
       "      <th></th>\n",
       "      <th></th>\n",
       "      <th></th>\n",
       "      <th></th>\n",
       "      <th></th>\n",
       "      <th></th>\n",
       "      <th></th>\n",
       "      <th></th>\n",
       "    </tr>\n",
       "  </thead>\n",
       "  <tbody>\n",
       "    <tr>\n",
       "      <th rowspan=\"5\" valign=\"top\">Airline tickets</th>\n",
       "      <th>Cia Aérea - GOL</th>\n",
       "      <td>0</td>\n",
       "      <td>2009-09-22</td>\n",
       "      <td>1785</td>\n",
       "      <td>PDT</td>\n",
       "      <td>RJ</td>\n",
       "      <td>Arnaldo Vianna</td>\n",
       "      <td>7575651000159</td>\n",
       "      <td>3</td>\n",
       "      <td>705</td>\n",
       "      <td>44</td>\n",
       "    </tr>\n",
       "    <tr>\n",
       "      <th>Cia Aérea - GOL</th>\n",
       "      <td>0</td>\n",
       "      <td>2012-12-31</td>\n",
       "      <td>1744</td>\n",
       "      <td>PODE</td>\n",
       "      <td>MG</td>\n",
       "      <td>Ademir Camilo</td>\n",
       "      <td>7575651000159</td>\n",
       "      <td>106</td>\n",
       "      <td>3128</td>\n",
       "      <td>44</td>\n",
       "    </tr>\n",
       "    <tr>\n",
       "      <th>Cia Aérea - TAM</th>\n",
       "      <td>0</td>\n",
       "      <td>2015-02-25</td>\n",
       "      <td>1703</td>\n",
       "      <td>PR</td>\n",
       "      <td>PB</td>\n",
       "      <td>Wellington Roberto</td>\n",
       "      <td>2012862000160</td>\n",
       "      <td>296</td>\n",
       "      <td>3123</td>\n",
       "      <td>39</td>\n",
       "    </tr>\n",
       "    <tr>\n",
       "      <th>Cia Aérea - TAM</th>\n",
       "      <td>0</td>\n",
       "      <td>2010-12-27</td>\n",
       "      <td>1332</td>\n",
       "      <td>PHS</td>\n",
       "      <td>AL</td>\n",
       "      <td>Givaldo Carimbão</td>\n",
       "      <td>2012862000160</td>\n",
       "      <td>336</td>\n",
       "      <td>3125</td>\n",
       "      <td>37</td>\n",
       "    </tr>\n",
       "    <tr>\n",
       "      <th>Cia Aérea - GOL</th>\n",
       "      <td>0</td>\n",
       "      <td>2010-12-28</td>\n",
       "      <td>1531</td>\n",
       "      <td>PCDOB</td>\n",
       "      <td>BA</td>\n",
       "      <td>Alice Portugal</td>\n",
       "      <td>7575651000159</td>\n",
       "      <td>218</td>\n",
       "      <td>3162</td>\n",
       "      <td>36</td>\n",
       "    </tr>\n",
       "    <tr>\n",
       "      <th>...</th>\n",
       "      <th>...</th>\n",
       "      <td>...</td>\n",
       "      <td>...</td>\n",
       "      <td>...</td>\n",
       "      <td>...</td>\n",
       "      <td>...</td>\n",
       "      <td>...</td>\n",
       "      <td>...</td>\n",
       "      <td>...</td>\n",
       "      <td>...</td>\n",
       "      <td>...</td>\n",
       "    </tr>\n",
       "    <tr>\n",
       "      <th>Maintenance of Office</th>\n",
       "      <th>SKY</th>\n",
       "      <td>0</td>\n",
       "      <td>2012-04-08</td>\n",
       "      <td>1729</td>\n",
       "      <td>PT</td>\n",
       "      <td>PI</td>\n",
       "      <td>Nazareno Fonteles</td>\n",
       "      <td>72820822002769</td>\n",
       "      <td>114</td>\n",
       "      <td>1842</td>\n",
       "      <td>1</td>\n",
       "    </tr>\n",
       "    <tr>\n",
       "      <th>Fuels and lubricants.</th>\n",
       "      <th>AUTO POSTO FLOR DA CHAPADA LTDA</th>\n",
       "      <td>0</td>\n",
       "      <td>2012-04-08</td>\n",
       "      <td>1710</td>\n",
       "      <td>PT</td>\n",
       "      <td>BA</td>\n",
       "      <td>Zezéu Ribeiro</td>\n",
       "      <td>75021000257</td>\n",
       "      <td>147</td>\n",
       "      <td>1979</td>\n",
       "      <td>1</td>\n",
       "    </tr>\n",
       "    <tr>\n",
       "      <th>Airline tickets</th>\n",
       "      <th>Cia Aérea - GOL</th>\n",
       "      <td>0</td>\n",
       "      <td>2012-04-08</td>\n",
       "      <td>1706</td>\n",
       "      <td>PT</td>\n",
       "      <td>PA</td>\n",
       "      <td>Zé Geraldo</td>\n",
       "      <td>7575651000159</td>\n",
       "      <td>480</td>\n",
       "      <td>3152</td>\n",
       "      <td>1</td>\n",
       "    </tr>\n",
       "    <tr>\n",
       "      <th>Fuels and lubricants.</th>\n",
       "      <th>POSTO MARU LTDA</th>\n",
       "      <td>0</td>\n",
       "      <td>2012-04-08</td>\n",
       "      <td>1693</td>\n",
       "      <td>PSC</td>\n",
       "      <td>PR</td>\n",
       "      <td>Takayama</td>\n",
       "      <td>81894297000420</td>\n",
       "      <td>50</td>\n",
       "      <td>3203</td>\n",
       "      <td>1</td>\n",
       "    </tr>\n",
       "    <tr>\n",
       "      <th>Rental or Chartering of Motor Vehicles</th>\n",
       "      <th>DS LOCAÇÃODE VEÍCULOS EIRELI-EPP</th>\n",
       "      <td>1</td>\n",
       "      <td>2017-01-01</td>\n",
       "      <td>3144</td>\n",
       "      <td>PSB</td>\n",
       "      <td>PE</td>\n",
       "      <td>Creuza Pereira</td>\n",
       "      <td>18345254000107</td>\n",
       "      <td>1800</td>\n",
       "      <td>502</td>\n",
       "      <td>1</td>\n",
       "    </tr>\n",
       "  </tbody>\n",
       "</table>\n",
       "<p>2326985 rows × 10 columns</p>\n",
       "</div>"
      ],
      "text/plain": [
       "                                                                         bugged_date  \\\n",
       "receipt_description                    establishment_name                              \n",
       "Airline tickets                        Cia Aérea - GOL                             0   \n",
       "                                       Cia Aérea - GOL                             0   \n",
       "                                       Cia Aérea - TAM                             0   \n",
       "                                       Cia Aérea - TAM                             0   \n",
       "                                       Cia Aérea - GOL                             0   \n",
       "...                                                                              ...   \n",
       "Maintenance of Office                  SKY                                         0   \n",
       "Fuels and lubricants.                  AUTO POSTO FLOR DA CHAPADA LTDA             0   \n",
       "Airline tickets                        Cia Aérea - GOL                             0   \n",
       "Fuels and lubricants.                  POSTO MARU LTDA                             0   \n",
       "Rental or Chartering of Motor Vehicles DS LOCAÇÃODE VEÍCULOS EIRELI-EPP            1   \n",
       "\n",
       "                                                                        receipt_date  \\\n",
       "receipt_description                    establishment_name                              \n",
       "Airline tickets                        Cia Aérea - GOL                    2009-09-22   \n",
       "                                       Cia Aérea - GOL                    2012-12-31   \n",
       "                                       Cia Aérea - TAM                    2015-02-25   \n",
       "                                       Cia Aérea - TAM                    2010-12-27   \n",
       "                                       Cia Aérea - GOL                    2010-12-28   \n",
       "...                                                                              ...   \n",
       "Maintenance of Office                  SKY                                2012-04-08   \n",
       "Fuels and lubricants.                  AUTO POSTO FLOR DA CHAPADA LTDA    2012-04-08   \n",
       "Airline tickets                        Cia Aérea - GOL                    2012-04-08   \n",
       "Fuels and lubricants.                  POSTO MARU LTDA                    2012-04-08   \n",
       "Rental or Chartering of Motor Vehicles DS LOCAÇÃODE VEÍCULOS EIRELI-EPP   2017-01-01   \n",
       "\n",
       "                                                                         deputy_id  \\\n",
       "receipt_description                    establishment_name                            \n",
       "Airline tickets                        Cia Aérea - GOL                        1785   \n",
       "                                       Cia Aérea - GOL                        1744   \n",
       "                                       Cia Aérea - TAM                        1703   \n",
       "                                       Cia Aérea - TAM                        1332   \n",
       "                                       Cia Aérea - GOL                        1531   \n",
       "...                                                                            ...   \n",
       "Maintenance of Office                  SKY                                    1729   \n",
       "Fuels and lubricants.                  AUTO POSTO FLOR DA CHAPADA LTDA        1710   \n",
       "Airline tickets                        Cia Aérea - GOL                        1706   \n",
       "Fuels and lubricants.                  POSTO MARU LTDA                        1693   \n",
       "Rental or Chartering of Motor Vehicles DS LOCAÇÃODE VEÍCULOS EIRELI-EPP       3144   \n",
       "\n",
       "                                                                        political_party  \\\n",
       "receipt_description                    establishment_name                                 \n",
       "Airline tickets                        Cia Aérea - GOL                              PDT   \n",
       "                                       Cia Aérea - GOL                             PODE   \n",
       "                                       Cia Aérea - TAM                               PR   \n",
       "                                       Cia Aérea - TAM                              PHS   \n",
       "                                       Cia Aérea - GOL                            PCDOB   \n",
       "...                                                                                 ...   \n",
       "Maintenance of Office                  SKY                                           PT   \n",
       "Fuels and lubricants.                  AUTO POSTO FLOR DA CHAPADA LTDA               PT   \n",
       "Airline tickets                        Cia Aérea - GOL                               PT   \n",
       "Fuels and lubricants.                  POSTO MARU LTDA                              PSC   \n",
       "Rental or Chartering of Motor Vehicles DS LOCAÇÃODE VEÍCULOS EIRELI-EPP             PSB   \n",
       "\n",
       "                                                                        state_code  \\\n",
       "receipt_description                    establishment_name                            \n",
       "Airline tickets                        Cia Aérea - GOL                          RJ   \n",
       "                                       Cia Aérea - GOL                          MG   \n",
       "                                       Cia Aérea - TAM                          PB   \n",
       "                                       Cia Aérea - TAM                          AL   \n",
       "                                       Cia Aérea - GOL                          BA   \n",
       "...                                                                            ...   \n",
       "Maintenance of Office                  SKY                                      PI   \n",
       "Fuels and lubricants.                  AUTO POSTO FLOR DA CHAPADA LTDA          BA   \n",
       "Airline tickets                        Cia Aérea - GOL                          PA   \n",
       "Fuels and lubricants.                  POSTO MARU LTDA                          PR   \n",
       "Rental or Chartering of Motor Vehicles DS LOCAÇÃODE VEÍCULOS EIRELI-EPP         PE   \n",
       "\n",
       "                                                                                deputy_name  \\\n",
       "receipt_description                    establishment_name                                     \n",
       "Airline tickets                        Cia Aérea - GOL                       Arnaldo Vianna   \n",
       "                                       Cia Aérea - GOL                        Ademir Camilo   \n",
       "                                       Cia Aérea - TAM                   Wellington Roberto   \n",
       "                                       Cia Aérea - TAM                     Givaldo Carimbão   \n",
       "                                       Cia Aérea - GOL                       Alice Portugal   \n",
       "...                                                                                     ...   \n",
       "Maintenance of Office                  SKY                                Nazareno Fonteles   \n",
       "Fuels and lubricants.                  AUTO POSTO FLOR DA CHAPADA LTDA        Zezéu Ribeiro   \n",
       "Airline tickets                        Cia Aérea - GOL                           Zé Geraldo   \n",
       "Fuels and lubricants.                  POSTO MARU LTDA                             Takayama   \n",
       "Rental or Chartering of Motor Vehicles DS LOCAÇÃODE VEÍCULOS EIRELI-EPP      Creuza Pereira   \n",
       "\n",
       "                                                                         receipt_social_security_number  \\\n",
       "receipt_description                    establishment_name                                                 \n",
       "Airline tickets                        Cia Aérea - GOL                                    7575651000159   \n",
       "                                       Cia Aérea - GOL                                    7575651000159   \n",
       "                                       Cia Aérea - TAM                                    2012862000160   \n",
       "                                       Cia Aérea - TAM                                    2012862000160   \n",
       "                                       Cia Aérea - GOL                                    7575651000159   \n",
       "...                                                                                                 ...   \n",
       "Maintenance of Office                  SKY                                               72820822002769   \n",
       "Fuels and lubricants.                  AUTO POSTO FLOR DA CHAPADA LTDA                      75021000257   \n",
       "Airline tickets                        Cia Aérea - GOL                                    7575651000159   \n",
       "Fuels and lubricants.                  POSTO MARU LTDA                                   81894297000420   \n",
       "Rental or Chartering of Motor Vehicles DS LOCAÇÃODE VEÍCULOS EIRELI-EPP                  18345254000107   \n",
       "\n",
       "                                                                         receipt_value  \\\n",
       "receipt_description                    establishment_name                                \n",
       "Airline tickets                        Cia Aérea - GOL                               3   \n",
       "                                       Cia Aérea - GOL                             106   \n",
       "                                       Cia Aérea - TAM                             296   \n",
       "                                       Cia Aérea - TAM                             336   \n",
       "                                       Cia Aérea - GOL                             218   \n",
       "...                                                                                ...   \n",
       "Maintenance of Office                  SKY                                         114   \n",
       "Fuels and lubricants.                  AUTO POSTO FLOR DA CHAPADA LTDA             147   \n",
       "Airline tickets                        Cia Aérea - GOL                             480   \n",
       "Fuels and lubricants.                  POSTO MARU LTDA                              50   \n",
       "Rental or Chartering of Motor Vehicles DS LOCAÇÃODE VEÍCULOS EIRELI-EPP           1800   \n",
       "\n",
       "                                                                         periode  \\\n",
       "receipt_description                    establishment_name                          \n",
       "Airline tickets                        Cia Aérea - GOL                       705   \n",
       "                                       Cia Aérea - GOL                      3128   \n",
       "                                       Cia Aérea - TAM                      3123   \n",
       "                                       Cia Aérea - TAM                      3125   \n",
       "                                       Cia Aérea - GOL                      3162   \n",
       "...                                                                          ...   \n",
       "Maintenance of Office                  SKY                                  1842   \n",
       "Fuels and lubricants.                  AUTO POSTO FLOR DA CHAPADA LTDA      1979   \n",
       "Airline tickets                        Cia Aérea - GOL                      3152   \n",
       "Fuels and lubricants.                  POSTO MARU LTDA                      3203   \n",
       "Rental or Chartering of Motor Vehicles DS LOCAÇÃODE VEÍCULOS EIRELI-EPP      502   \n",
       "\n",
       "                                                                         nb_exemplaires  \n",
       "receipt_description                    establishment_name                                \n",
       "Airline tickets                        Cia Aérea - GOL                               44  \n",
       "                                       Cia Aérea - GOL                               44  \n",
       "                                       Cia Aérea - TAM                               39  \n",
       "                                       Cia Aérea - TAM                               37  \n",
       "                                       Cia Aérea - GOL                               36  \n",
       "...                                                                                 ...  \n",
       "Maintenance of Office                  SKY                                            1  \n",
       "Fuels and lubricants.                  AUTO POSTO FLOR DA CHAPADA LTDA                1  \n",
       "Airline tickets                        Cia Aérea - GOL                                1  \n",
       "Fuels and lubricants.                  POSTO MARU LTDA                                1  \n",
       "Rental or Chartering of Motor Vehicles DS LOCAÇÃODE VEÍCULOS EIRELI-EPP               1  \n",
       "\n",
       "[2326985 rows x 10 columns]"
      ]
     },
     "execution_count": 34,
     "metadata": {},
     "output_type": "execute_result"
    }
   ],
   "source": [
    "(\n",
    "    multi_category := df.set_index(['receipt_description', 'establishment_name'])\n",
    ")"
   ]
  },
  {
   "cell_type": "code",
   "execution_count": 84,
   "id": "5ca45e4f",
   "metadata": {},
   "outputs": [],
   "source": [
    "premier_quartile = df.groupby('receipt_description')['receipt_value'].transform('quantile', 0.25)\n",
    "troisieme_quartile = df.groupby('receipt_description')['receipt_value'].transform('quantile', 0.75)\n",
    "iqr = troisieme_quartile - premier_quartile\n",
    "\n",
    "maximum = troisieme_quartile + iqr * 1.5\n",
    "\n",
    "df['outlier'] = df['receipt_value'] > maximum"
   ]
  },
  {
   "cell_type": "code",
   "execution_count": 85,
   "id": "ab2fb6cf",
   "metadata": {},
   "outputs": [
    {
     "data": {
      "text/html": [
       "<div>\n",
       "<style scoped>\n",
       "    .dataframe tbody tr th:only-of-type {\n",
       "        vertical-align: middle;\n",
       "    }\n",
       "\n",
       "    .dataframe tbody tr th {\n",
       "        vertical-align: top;\n",
       "    }\n",
       "\n",
       "    .dataframe thead th {\n",
       "        text-align: right;\n",
       "    }\n",
       "</style>\n",
       "<table border=\"1\" class=\"dataframe\">\n",
       "  <thead>\n",
       "    <tr style=\"text-align: right;\">\n",
       "      <th></th>\n",
       "      <th>bugged_date</th>\n",
       "      <th>receipt_date</th>\n",
       "      <th>deputy_id</th>\n",
       "      <th>political_party</th>\n",
       "      <th>state_code</th>\n",
       "      <th>deputy_name</th>\n",
       "      <th>receipt_social_security_number</th>\n",
       "      <th>receipt_description</th>\n",
       "      <th>establishment_name</th>\n",
       "      <th>receipt_value</th>\n",
       "      <th>periode</th>\n",
       "      <th>nb_exemplaires</th>\n",
       "      <th>outlier</th>\n",
       "    </tr>\n",
       "  </thead>\n",
       "  <tbody>\n",
       "    <tr>\n",
       "      <th>119350</th>\n",
       "      <td>0</td>\n",
       "      <td>2009-09-22</td>\n",
       "      <td>1785</td>\n",
       "      <td>PDT</td>\n",
       "      <td>RJ</td>\n",
       "      <td>Arnaldo Vianna</td>\n",
       "      <td>7575651000159</td>\n",
       "      <td>Airline tickets</td>\n",
       "      <td>Cia Aérea - GOL</td>\n",
       "      <td>3</td>\n",
       "      <td>705</td>\n",
       "      <td>44</td>\n",
       "      <td>False</td>\n",
       "    </tr>\n",
       "    <tr>\n",
       "      <th>990439</th>\n",
       "      <td>0</td>\n",
       "      <td>2012-12-31</td>\n",
       "      <td>1744</td>\n",
       "      <td>PODE</td>\n",
       "      <td>MG</td>\n",
       "      <td>Ademir Camilo</td>\n",
       "      <td>7575651000159</td>\n",
       "      <td>Airline tickets</td>\n",
       "      <td>Cia Aérea - GOL</td>\n",
       "      <td>106</td>\n",
       "      <td>3128</td>\n",
       "      <td>44</td>\n",
       "      <td>False</td>\n",
       "    </tr>\n",
       "    <tr>\n",
       "      <th>1551457</th>\n",
       "      <td>0</td>\n",
       "      <td>2015-02-25</td>\n",
       "      <td>1703</td>\n",
       "      <td>PR</td>\n",
       "      <td>PB</td>\n",
       "      <td>Wellington Roberto</td>\n",
       "      <td>2012862000160</td>\n",
       "      <td>Airline tickets</td>\n",
       "      <td>Cia Aérea - TAM</td>\n",
       "      <td>296</td>\n",
       "      <td>3123</td>\n",
       "      <td>39</td>\n",
       "      <td>False</td>\n",
       "    </tr>\n",
       "    <tr>\n",
       "      <th>436531</th>\n",
       "      <td>0</td>\n",
       "      <td>2010-12-27</td>\n",
       "      <td>1332</td>\n",
       "      <td>PHS</td>\n",
       "      <td>AL</td>\n",
       "      <td>Givaldo Carimbão</td>\n",
       "      <td>2012862000160</td>\n",
       "      <td>Airline tickets</td>\n",
       "      <td>Cia Aérea - TAM</td>\n",
       "      <td>336</td>\n",
       "      <td>3125</td>\n",
       "      <td>37</td>\n",
       "      <td>False</td>\n",
       "    </tr>\n",
       "    <tr>\n",
       "      <th>436970</th>\n",
       "      <td>0</td>\n",
       "      <td>2010-12-28</td>\n",
       "      <td>1531</td>\n",
       "      <td>PCDOB</td>\n",
       "      <td>BA</td>\n",
       "      <td>Alice Portugal</td>\n",
       "      <td>7575651000159</td>\n",
       "      <td>Airline tickets</td>\n",
       "      <td>Cia Aérea - GOL</td>\n",
       "      <td>218</td>\n",
       "      <td>3162</td>\n",
       "      <td>36</td>\n",
       "      <td>False</td>\n",
       "    </tr>\n",
       "    <tr>\n",
       "      <th>...</th>\n",
       "      <td>...</td>\n",
       "      <td>...</td>\n",
       "      <td>...</td>\n",
       "      <td>...</td>\n",
       "      <td>...</td>\n",
       "      <td>...</td>\n",
       "      <td>...</td>\n",
       "      <td>...</td>\n",
       "      <td>...</td>\n",
       "      <td>...</td>\n",
       "      <td>...</td>\n",
       "      <td>...</td>\n",
       "      <td>...</td>\n",
       "    </tr>\n",
       "    <tr>\n",
       "      <th>792386</th>\n",
       "      <td>0</td>\n",
       "      <td>2012-04-08</td>\n",
       "      <td>1729</td>\n",
       "      <td>PT</td>\n",
       "      <td>PI</td>\n",
       "      <td>Nazareno Fonteles</td>\n",
       "      <td>72820822002769</td>\n",
       "      <td>Maintenance of Office</td>\n",
       "      <td>SKY</td>\n",
       "      <td>114</td>\n",
       "      <td>1842</td>\n",
       "      <td>1</td>\n",
       "      <td>False</td>\n",
       "    </tr>\n",
       "    <tr>\n",
       "      <th>792385</th>\n",
       "      <td>0</td>\n",
       "      <td>2012-04-08</td>\n",
       "      <td>1710</td>\n",
       "      <td>PT</td>\n",
       "      <td>BA</td>\n",
       "      <td>Zezéu Ribeiro</td>\n",
       "      <td>75021000257</td>\n",
       "      <td>Fuels and lubricants.</td>\n",
       "      <td>AUTO POSTO FLOR DA CHAPADA LTDA</td>\n",
       "      <td>147</td>\n",
       "      <td>1979</td>\n",
       "      <td>1</td>\n",
       "      <td>False</td>\n",
       "    </tr>\n",
       "    <tr>\n",
       "      <th>792384</th>\n",
       "      <td>0</td>\n",
       "      <td>2012-04-08</td>\n",
       "      <td>1706</td>\n",
       "      <td>PT</td>\n",
       "      <td>PA</td>\n",
       "      <td>Zé Geraldo</td>\n",
       "      <td>7575651000159</td>\n",
       "      <td>Airline tickets</td>\n",
       "      <td>Cia Aérea - GOL</td>\n",
       "      <td>480</td>\n",
       "      <td>3152</td>\n",
       "      <td>1</td>\n",
       "      <td>False</td>\n",
       "    </tr>\n",
       "    <tr>\n",
       "      <th>792383</th>\n",
       "      <td>0</td>\n",
       "      <td>2012-04-08</td>\n",
       "      <td>1693</td>\n",
       "      <td>PSC</td>\n",
       "      <td>PR</td>\n",
       "      <td>Takayama</td>\n",
       "      <td>81894297000420</td>\n",
       "      <td>Fuels and lubricants.</td>\n",
       "      <td>POSTO MARU LTDA</td>\n",
       "      <td>50</td>\n",
       "      <td>3203</td>\n",
       "      <td>1</td>\n",
       "      <td>False</td>\n",
       "    </tr>\n",
       "    <tr>\n",
       "      <th>2326984</th>\n",
       "      <td>1</td>\n",
       "      <td>2017-01-01</td>\n",
       "      <td>3144</td>\n",
       "      <td>PSB</td>\n",
       "      <td>PE</td>\n",
       "      <td>Creuza Pereira</td>\n",
       "      <td>18345254000107</td>\n",
       "      <td>Rental or Chartering of Motor Vehicles</td>\n",
       "      <td>DS LOCAÇÃODE VEÍCULOS EIRELI-EPP</td>\n",
       "      <td>1800</td>\n",
       "      <td>502</td>\n",
       "      <td>1</td>\n",
       "      <td>False</td>\n",
       "    </tr>\n",
       "  </tbody>\n",
       "</table>\n",
       "<p>2326985 rows × 13 columns</p>\n",
       "</div>"
      ],
      "text/plain": [
       "         bugged_date receipt_date  deputy_id political_party state_code  \\\n",
       "119350             0   2009-09-22       1785             PDT         RJ   \n",
       "990439             0   2012-12-31       1744            PODE         MG   \n",
       "1551457            0   2015-02-25       1703              PR         PB   \n",
       "436531             0   2010-12-27       1332             PHS         AL   \n",
       "436970             0   2010-12-28       1531           PCDOB         BA   \n",
       "...              ...          ...        ...             ...        ...   \n",
       "792386             0   2012-04-08       1729              PT         PI   \n",
       "792385             0   2012-04-08       1710              PT         BA   \n",
       "792384             0   2012-04-08       1706              PT         PA   \n",
       "792383             0   2012-04-08       1693             PSC         PR   \n",
       "2326984            1   2017-01-01       3144             PSB         PE   \n",
       "\n",
       "                deputy_name  receipt_social_security_number  \\\n",
       "119350       Arnaldo Vianna                   7575651000159   \n",
       "990439        Ademir Camilo                   7575651000159   \n",
       "1551457  Wellington Roberto                   2012862000160   \n",
       "436531     Givaldo Carimbão                   2012862000160   \n",
       "436970       Alice Portugal                   7575651000159   \n",
       "...                     ...                             ...   \n",
       "792386    Nazareno Fonteles                  72820822002769   \n",
       "792385        Zezéu Ribeiro                     75021000257   \n",
       "792384           Zé Geraldo                   7575651000159   \n",
       "792383             Takayama                  81894297000420   \n",
       "2326984      Creuza Pereira                  18345254000107   \n",
       "\n",
       "                            receipt_description  \\\n",
       "119350                          Airline tickets   \n",
       "990439                          Airline tickets   \n",
       "1551457                         Airline tickets   \n",
       "436531                          Airline tickets   \n",
       "436970                          Airline tickets   \n",
       "...                                         ...   \n",
       "792386                    Maintenance of Office   \n",
       "792385                    Fuels and lubricants.   \n",
       "792384                          Airline tickets   \n",
       "792383                    Fuels and lubricants.   \n",
       "2326984  Rental or Chartering of Motor Vehicles   \n",
       "\n",
       "                       establishment_name  receipt_value  periode  \\\n",
       "119350                    Cia Aérea - GOL              3      705   \n",
       "990439                    Cia Aérea - GOL            106     3128   \n",
       "1551457                   Cia Aérea - TAM            296     3123   \n",
       "436531                    Cia Aérea - TAM            336     3125   \n",
       "436970                    Cia Aérea - GOL            218     3162   \n",
       "...                                   ...            ...      ...   \n",
       "792386                                SKY            114     1842   \n",
       "792385    AUTO POSTO FLOR DA CHAPADA LTDA            147     1979   \n",
       "792384                    Cia Aérea - GOL            480     3152   \n",
       "792383                    POSTO MARU LTDA             50     3203   \n",
       "2326984  DS LOCAÇÃODE VEÍCULOS EIRELI-EPP           1800      502   \n",
       "\n",
       "         nb_exemplaires  outlier  \n",
       "119350               44    False  \n",
       "990439               44    False  \n",
       "1551457              39    False  \n",
       "436531               37    False  \n",
       "436970               36    False  \n",
       "...                 ...      ...  \n",
       "792386                1    False  \n",
       "792385                1    False  \n",
       "792384                1    False  \n",
       "792383                1    False  \n",
       "2326984               1    False  \n",
       "\n",
       "[2326985 rows x 13 columns]"
      ]
     },
     "execution_count": 85,
     "metadata": {},
     "output_type": "execute_result"
    }
   ],
   "source": [
    "df"
   ]
  },
  {
   "cell_type": "code",
   "execution_count": 38,
   "id": "f5059a7d",
   "metadata": {},
   "outputs": [
    {
     "data": {
      "image/png": "[encoded data removed]",
      "text/plain": [
       "<Figure size 400x400 with 1 Axes>"
      ]
     },
     "metadata": {},
     "output_type": "display_data"
    }
   ],
   "source": [
    "labels = ['Factures normales', 'Factures gonflées']\n",
    "plt.figure(figsize = (4, 4))\n",
    "plt.pie(df['outlier'].value_counts(), labels = labels)\n",
    "plt.title('Proportion des factures au-delà de la limite haute');"
   ]
  },
  {
   "cell_type": "code",
   "execution_count": 41,
   "id": "fae97c0d",
   "metadata": {},
   "outputs": [
    {
     "name": "stdout",
     "output_type": "stream",
     "text": [
      "Le nombre des factures aux montants excessifs est 165126\n"
     ]
    }
   ],
   "source": [
    "print('Le nombre des factures aux montants excessifs est', df['outlier'].sum())"
   ]
  },
  {
   "cell_type": "code",
   "execution_count": 1,
   "id": "43688c31",
   "metadata": {},
   "outputs": [],
   "source": [
    "# Dépense totale par code de l’état"
   ]
  },
  {
   "cell_type": "code",
   "execution_count": null,
   "id": "d5aff208",
   "metadata": {},
   "outputs": [],
   "source": [
    "# Quel est la relation entre les factures dupliquées et les montants excessifs ?"
   ]
  },
  {
   "cell_type": "code",
   "execution_count": 86,
   "id": "c7cfdd26",
   "metadata": {},
   "outputs": [
    {
     "data": {
      "image/png": "[encoded data removed]",
      "text/plain": [
       "<Figure size 250x250 with 1 Axes>"
      ]
     },
     "metadata": {},
     "output_type": "display_data"
    }
   ],
   "source": [
    "sns.pairplot(data = df, x_vars = 'outlier', y_vars = 'nb_exemplaires');"
   ]
  },
  {
   "cell_type": "markdown",
   "id": "629e8ba9",
   "metadata": {},
   "source": [
    "Les factures qui ne sont pas des “outliers” semblent avoir été plus dupliquées."
   ]
  },
  {
   "cell_type": "markdown",
   "id": "58ef5270",
   "metadata": {},
   "source": [
    "# Y a-t-il une corrélation entre la valeur d’une facture et le nombre de fois où elle est dupliquée ?"
   ]
  },
  {
   "cell_type": "code",
   "execution_count": 87,
   "id": "5828edfb",
   "metadata": {},
   "outputs": [
    {
     "data": {
      "image/png": "[encoded data removed]",
      "text/plain": [
       "<Figure size 400x400 with 1 Axes>"
      ]
     },
     "metadata": {},
     "output_type": "display_data"
    }
   ],
   "source": [
    "sns.pairplot(data = multi_category, x_vars = 'nb_exemplaires', y_vars = 'receipt_value', height = 4);"
   ]
  },
  {
   "cell_type": "code",
   "execution_count": null,
   "id": "ba77a39e",
   "metadata": {},
   "outputs": [],
   "source": [
    "# D’après la figure, il y a au moins une petite corrélation entre le nombre de duplicata et la somme de la facture"
   ]
  }
 ],
 "metadata": {
  "celltoolbar": "Format de la Cellule Texte Brut",
  "finalized": {
   "timestamp": 1684771798774,
   "trusted": false
  },
  "kernelspec": {
   "display_name": "Python 3 (ipykernel)",
   "language": "python",
   "name": "python3"
  },
  "language_info": {
   "codemirror_mode": {
    "name": "ipython",
    "version": 3
   },
   "file_extension": ".py",
   "mimetype": "text/x-python",
   "name": "python",
   "nbconvert_exporter": "python",
   "pygments_lexer": "ipython3",
   "version": "3.11.3"
  },
  "toc": {
   "base_numbering": 1,
   "nav_menu": {},
   "number_sections": true,
   "sideBar": true,
   "skip_h1_title": false,
   "title_cell": "Table of Contents",
   "title_sidebar": "Contents",
   "toc_cell": true,
   "toc_position": {
    "height": "calc(100% - 180px)",
    "left": "10px",
    "top": "150px",
    "width": "320px"
   },
   "toc_section_display": true,
   "toc_window_display": false
  },
  "varInspector": {
   "cols": {
    "lenName": 16,
    "lenType": 16,
    "lenVar": 40
   },
   "kernels_config": {
    "python": {
     "delete_cmd_postfix": "",
     "delete_cmd_prefix": "del ",
     "library": "var_list.py",
     "varRefreshCmd": "print(var_dic_list())"
    },
    "r": {
     "delete_cmd_postfix": ") ",
     "delete_cmd_prefix": "rm(",
     "library": "var_list.r",
     "varRefreshCmd": "cat(var_dic_list()) "
    }
   },
   "types_to_exclude": [
    "module",
    "function",
    "builtin_function_or_method",
    "instance",
    "_Feature"
   ],
   "window_display": false
  }
 },
 "nbformat": 4,
 "nbformat_minor": 5
}
